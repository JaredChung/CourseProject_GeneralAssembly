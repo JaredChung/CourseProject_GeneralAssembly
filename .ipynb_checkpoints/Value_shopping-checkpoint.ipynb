{
 "cells": [
  {
   "cell_type": "markdown",
   "metadata": {
    "collapsed": true
   },
   "source": [
    "# C"
   ]
  },
  {
   "cell_type": "code",
   "execution_count": 3,
   "metadata": {
    "collapsed": false
   },
   "outputs": [
    {
     "name": "stderr",
     "output_type": "stream",
     "text": [
      "C:\\Users\\Jared Chung\\Anaconda2\\lib\\site-packages\\matplotlib\\__init__.py:872: UserWarning: axes.color_cycle is deprecated and replaced with axes.prop_cycle; please use the latter.\n",
      "  warnings.warn(self.msg_depr % (key, alt_key))\n"
     ]
    }
   ],
   "source": [
    "import pandas as pd\n",
    "import numpy as np\n",
    "import matplotlib.pyplot as plt\n",
    "import seaborn as sns\n",
    "import xgboost as xgb\n",
    "%matplotlib inline"
   ]
  },
  {
   "cell_type": "code",
   "execution_count": 4,
   "metadata": {
    "collapsed": false
   },
   "outputs": [],
   "source": [
    "train = pd.read_csv(\"trainHistory.csv\", parse_dates =['offerdate'])\n",
    "test= pd.read_csv(\"testHistory.csv\",parse_dates =['offerdate'])\n",
    "offer = pd.read_csv(\"offers.csv\")"
   ]
  },
  {
   "cell_type": "code",
   "execution_count": 6,
   "metadata": {
    "collapsed": false,
    "scrolled": true
   },
   "outputs": [],
   "source": [
    "transactions = pd.read_csv(\"reduced2.csv\",parse_dates =['date'])"
   ]
  },
  {
   "cell_type": "code",
   "execution_count": null,
   "metadata": {
    "collapsed": true
   },
   "outputs": [],
   "source": [
    "transactions.groupby('id',)"
   ]
  },
  {
   "cell_type": "code",
   "execution_count": 7,
   "metadata": {
    "collapsed": false
   },
   "outputs": [],
   "source": [
    "transactions['year'] = transactions.date.apply(lambda n: n.year)\n",
    "transactions['month'] = transactions.date.apply(lambda n: n.month)\n",
    "transactions['week'] = transactions.date.apply(lambda n: n.week)\n",
    "transactions['dayofweek'] = transactions.date.apply(lambda n: n.dayofweek)"
   ]
  },
  {
   "cell_type": "code",
   "execution_count": 16,
   "metadata": {
    "collapsed": false
   },
   "outputs": [
    {
     "data": {
      "text/plain": [
       "130"
      ]
     },
     "execution_count": 16,
     "metadata": {},
     "output_type": "execute_result"
    }
   ],
   "source": [
    "len(train.chain.unique())"
   ]
  },
  {
   "cell_type": "code",
   "execution_count": 35,
   "metadata": {
    "collapsed": false
   },
   "outputs": [],
   "source": [
    "merged = pd.merge(train,offer,left_on='offer',right_on='offer',how='left')"
   ]
  },
  {
   "cell_type": "code",
   "execution_count": 36,
   "metadata": {
    "collapsed": false
   },
   "outputs": [
    {
     "data": {
      "text/html": [
       "<div>\n",
       "<table border=\"1\" class=\"dataframe\">\n",
       "  <thead>\n",
       "    <tr style=\"text-align: right;\">\n",
       "      <th></th>\n",
       "      <th>id</th>\n",
       "      <th>chain</th>\n",
       "      <th>offer</th>\n",
       "      <th>market</th>\n",
       "      <th>repeattrips</th>\n",
       "      <th>repeater</th>\n",
       "      <th>offerdate</th>\n",
       "      <th>category</th>\n",
       "      <th>quantity</th>\n",
       "      <th>company</th>\n",
       "      <th>offervalue</th>\n",
       "      <th>brand</th>\n",
       "    </tr>\n",
       "  </thead>\n",
       "  <tbody>\n",
       "    <tr>\n",
       "      <th>0</th>\n",
       "      <td>86246</td>\n",
       "      <td>205</td>\n",
       "      <td>1208251</td>\n",
       "      <td>34</td>\n",
       "      <td>5</td>\n",
       "      <td>t</td>\n",
       "      <td>2013-04-24</td>\n",
       "      <td>2202</td>\n",
       "      <td>1</td>\n",
       "      <td>104460040</td>\n",
       "      <td>2.00</td>\n",
       "      <td>3718</td>\n",
       "    </tr>\n",
       "    <tr>\n",
       "      <th>1</th>\n",
       "      <td>86252</td>\n",
       "      <td>205</td>\n",
       "      <td>1197502</td>\n",
       "      <td>34</td>\n",
       "      <td>16</td>\n",
       "      <td>t</td>\n",
       "      <td>2013-03-27</td>\n",
       "      <td>3203</td>\n",
       "      <td>1</td>\n",
       "      <td>106414464</td>\n",
       "      <td>0.75</td>\n",
       "      <td>13474</td>\n",
       "    </tr>\n",
       "    <tr>\n",
       "      <th>2</th>\n",
       "      <td>12682470</td>\n",
       "      <td>18</td>\n",
       "      <td>1197502</td>\n",
       "      <td>11</td>\n",
       "      <td>0</td>\n",
       "      <td>f</td>\n",
       "      <td>2013-03-28</td>\n",
       "      <td>3203</td>\n",
       "      <td>1</td>\n",
       "      <td>106414464</td>\n",
       "      <td>0.75</td>\n",
       "      <td>13474</td>\n",
       "    </tr>\n",
       "    <tr>\n",
       "      <th>3</th>\n",
       "      <td>12996040</td>\n",
       "      <td>15</td>\n",
       "      <td>1197502</td>\n",
       "      <td>9</td>\n",
       "      <td>0</td>\n",
       "      <td>f</td>\n",
       "      <td>2013-03-25</td>\n",
       "      <td>3203</td>\n",
       "      <td>1</td>\n",
       "      <td>106414464</td>\n",
       "      <td>0.75</td>\n",
       "      <td>13474</td>\n",
       "    </tr>\n",
       "    <tr>\n",
       "      <th>4</th>\n",
       "      <td>13089312</td>\n",
       "      <td>15</td>\n",
       "      <td>1204821</td>\n",
       "      <td>9</td>\n",
       "      <td>0</td>\n",
       "      <td>f</td>\n",
       "      <td>2013-04-01</td>\n",
       "      <td>5619</td>\n",
       "      <td>1</td>\n",
       "      <td>107717272</td>\n",
       "      <td>1.50</td>\n",
       "      <td>102504</td>\n",
       "    </tr>\n",
       "  </tbody>\n",
       "</table>\n",
       "</div>"
      ],
      "text/plain": [
       "         id  chain    offer  market  repeattrips repeater  offerdate  \\\n",
       "0     86246    205  1208251      34            5        t 2013-04-24   \n",
       "1     86252    205  1197502      34           16        t 2013-03-27   \n",
       "2  12682470     18  1197502      11            0        f 2013-03-28   \n",
       "3  12996040     15  1197502       9            0        f 2013-03-25   \n",
       "4  13089312     15  1204821       9            0        f 2013-04-01   \n",
       "\n",
       "   category  quantity    company  offervalue   brand  \n",
       "0      2202         1  104460040        2.00    3718  \n",
       "1      3203         1  106414464        0.75   13474  \n",
       "2      3203         1  106414464        0.75   13474  \n",
       "3      3203         1  106414464        0.75   13474  \n",
       "4      5619         1  107717272        1.50  102504  "
      ]
     },
     "execution_count": 36,
     "metadata": {},
     "output_type": "execute_result"
    }
   ],
   "source": [
    "merged.head()"
   ]
  },
  {
   "cell_type": "code",
   "execution_count": 9,
   "metadata": {
    "collapsed": true
   },
   "outputs": [],
   "source": [
    "def preprocessing(x):\n",
    "    \n",
    "    x['year'] = x.offerdate.apply(lambda n: n.year)\n",
    "    x['month'] = x.offerdate.apply(lambda n: n.month)\n",
    "    x['week'] = x.offerdate.apply(lambda n: n.week)\n",
    "    x['dayofweek'] = x.offerdate.apply(lambda n: n.dayofweek)\n",
    "    \n",
    "    return x"
   ]
  },
  {
   "cell_type": "code",
   "execution_count": 8,
   "metadata": {
    "collapsed": false,
    "scrolled": true
   },
   "outputs": [
    {
     "data": {
      "text/html": [
       "<div>\n",
       "<table border=\"1\" class=\"dataframe\">\n",
       "  <thead>\n",
       "    <tr style=\"text-align: right;\">\n",
       "      <th></th>\n",
       "      <th>id</th>\n",
       "      <th>chain</th>\n",
       "      <th>dept</th>\n",
       "      <th>category</th>\n",
       "      <th>company</th>\n",
       "      <th>brand</th>\n",
       "      <th>date</th>\n",
       "      <th>productsize</th>\n",
       "      <th>productmeasure</th>\n",
       "      <th>purchasequantity</th>\n",
       "      <th>purchaseamount</th>\n",
       "    </tr>\n",
       "  </thead>\n",
       "  <tbody>\n",
       "    <tr>\n",
       "      <th>0</th>\n",
       "      <td>86246</td>\n",
       "      <td>205</td>\n",
       "      <td>99</td>\n",
       "      <td>9909</td>\n",
       "      <td>104538848</td>\n",
       "      <td>15343</td>\n",
       "      <td>2012-03-02</td>\n",
       "      <td>16</td>\n",
       "      <td>OZ</td>\n",
       "      <td>1</td>\n",
       "      <td>2.49</td>\n",
       "    </tr>\n",
       "    <tr>\n",
       "      <th>1</th>\n",
       "      <td>86246</td>\n",
       "      <td>205</td>\n",
       "      <td>21</td>\n",
       "      <td>2106</td>\n",
       "      <td>105100050</td>\n",
       "      <td>27873</td>\n",
       "      <td>2012-03-02</td>\n",
       "      <td>64</td>\n",
       "      <td>OZ</td>\n",
       "      <td>1</td>\n",
       "      <td>3.29</td>\n",
       "    </tr>\n",
       "    <tr>\n",
       "      <th>2</th>\n",
       "      <td>86246</td>\n",
       "      <td>205</td>\n",
       "      <td>26</td>\n",
       "      <td>2630</td>\n",
       "      <td>103700030</td>\n",
       "      <td>14647</td>\n",
       "      <td>2012-03-02</td>\n",
       "      <td>56</td>\n",
       "      <td>CT</td>\n",
       "      <td>1</td>\n",
       "      <td>1.00</td>\n",
       "    </tr>\n",
       "    <tr>\n",
       "      <th>3</th>\n",
       "      <td>86246</td>\n",
       "      <td>205</td>\n",
       "      <td>58</td>\n",
       "      <td>5824</td>\n",
       "      <td>108674585</td>\n",
       "      <td>55172</td>\n",
       "      <td>2012-03-02</td>\n",
       "      <td>16</td>\n",
       "      <td>OZ</td>\n",
       "      <td>1</td>\n",
       "      <td>3.29</td>\n",
       "    </tr>\n",
       "    <tr>\n",
       "      <th>4</th>\n",
       "      <td>86246</td>\n",
       "      <td>205</td>\n",
       "      <td>26</td>\n",
       "      <td>2634</td>\n",
       "      <td>103700030</td>\n",
       "      <td>3293</td>\n",
       "      <td>2012-03-06</td>\n",
       "      <td>6</td>\n",
       "      <td>RL</td>\n",
       "      <td>1</td>\n",
       "      <td>4.99</td>\n",
       "    </tr>\n",
       "  </tbody>\n",
       "</table>\n",
       "</div>"
      ],
      "text/plain": [
       "      id  chain  dept  category    company  brand       date  productsize  \\\n",
       "0  86246    205    99      9909  104538848  15343 2012-03-02           16   \n",
       "1  86246    205    21      2106  105100050  27873 2012-03-02           64   \n",
       "2  86246    205    26      2630  103700030  14647 2012-03-02           56   \n",
       "3  86246    205    58      5824  108674585  55172 2012-03-02           16   \n",
       "4  86246    205    26      2634  103700030   3293 2012-03-06            6   \n",
       "\n",
       "  productmeasure  purchasequantity  purchaseamount  \n",
       "0             OZ                 1            2.49  \n",
       "1             OZ                 1            3.29  \n",
       "2             CT                 1            1.00  \n",
       "3             OZ                 1            3.29  \n",
       "4             RL                 1            4.99  "
      ]
     },
     "execution_count": 8,
     "metadata": {},
     "output_type": "execute_result"
    }
   ],
   "source": [
    "transactions.head()"
   ]
  },
  {
   "cell_type": "code",
   "execution_count": 42,
   "metadata": {
    "collapsed": true
   },
   "outputs": [],
   "source": [
    "merged = preprocessing(merged)"
   ]
  },
  {
   "cell_type": "code",
   "execution_count": 43,
   "metadata": {
    "collapsed": false
   },
   "outputs": [
    {
     "data": {
      "text/html": [
       "<div>\n",
       "<table border=\"1\" class=\"dataframe\">\n",
       "  <thead>\n",
       "    <tr style=\"text-align: right;\">\n",
       "      <th></th>\n",
       "      <th>id</th>\n",
       "      <th>chain</th>\n",
       "      <th>offer</th>\n",
       "      <th>market</th>\n",
       "      <th>repeattrips</th>\n",
       "      <th>repeater</th>\n",
       "      <th>offerdate</th>\n",
       "      <th>category</th>\n",
       "      <th>quantity</th>\n",
       "      <th>company</th>\n",
       "      <th>offervalue</th>\n",
       "      <th>brand</th>\n",
       "      <th>year</th>\n",
       "      <th>month</th>\n",
       "      <th>week</th>\n",
       "      <th>dayofweek</th>\n",
       "    </tr>\n",
       "  </thead>\n",
       "  <tbody>\n",
       "    <tr>\n",
       "      <th>0</th>\n",
       "      <td>86246</td>\n",
       "      <td>205</td>\n",
       "      <td>1208251</td>\n",
       "      <td>34</td>\n",
       "      <td>5</td>\n",
       "      <td>t</td>\n",
       "      <td>2013-04-24</td>\n",
       "      <td>2202</td>\n",
       "      <td>1</td>\n",
       "      <td>104460040</td>\n",
       "      <td>2.00</td>\n",
       "      <td>3718</td>\n",
       "      <td>2013</td>\n",
       "      <td>4</td>\n",
       "      <td>17</td>\n",
       "      <td>2</td>\n",
       "    </tr>\n",
       "    <tr>\n",
       "      <th>1</th>\n",
       "      <td>86252</td>\n",
       "      <td>205</td>\n",
       "      <td>1197502</td>\n",
       "      <td>34</td>\n",
       "      <td>16</td>\n",
       "      <td>t</td>\n",
       "      <td>2013-03-27</td>\n",
       "      <td>3203</td>\n",
       "      <td>1</td>\n",
       "      <td>106414464</td>\n",
       "      <td>0.75</td>\n",
       "      <td>13474</td>\n",
       "      <td>2013</td>\n",
       "      <td>3</td>\n",
       "      <td>13</td>\n",
       "      <td>2</td>\n",
       "    </tr>\n",
       "    <tr>\n",
       "      <th>2</th>\n",
       "      <td>12682470</td>\n",
       "      <td>18</td>\n",
       "      <td>1197502</td>\n",
       "      <td>11</td>\n",
       "      <td>0</td>\n",
       "      <td>f</td>\n",
       "      <td>2013-03-28</td>\n",
       "      <td>3203</td>\n",
       "      <td>1</td>\n",
       "      <td>106414464</td>\n",
       "      <td>0.75</td>\n",
       "      <td>13474</td>\n",
       "      <td>2013</td>\n",
       "      <td>3</td>\n",
       "      <td>13</td>\n",
       "      <td>3</td>\n",
       "    </tr>\n",
       "    <tr>\n",
       "      <th>3</th>\n",
       "      <td>12996040</td>\n",
       "      <td>15</td>\n",
       "      <td>1197502</td>\n",
       "      <td>9</td>\n",
       "      <td>0</td>\n",
       "      <td>f</td>\n",
       "      <td>2013-03-25</td>\n",
       "      <td>3203</td>\n",
       "      <td>1</td>\n",
       "      <td>106414464</td>\n",
       "      <td>0.75</td>\n",
       "      <td>13474</td>\n",
       "      <td>2013</td>\n",
       "      <td>3</td>\n",
       "      <td>13</td>\n",
       "      <td>0</td>\n",
       "    </tr>\n",
       "    <tr>\n",
       "      <th>4</th>\n",
       "      <td>13089312</td>\n",
       "      <td>15</td>\n",
       "      <td>1204821</td>\n",
       "      <td>9</td>\n",
       "      <td>0</td>\n",
       "      <td>f</td>\n",
       "      <td>2013-04-01</td>\n",
       "      <td>5619</td>\n",
       "      <td>1</td>\n",
       "      <td>107717272</td>\n",
       "      <td>1.50</td>\n",
       "      <td>102504</td>\n",
       "      <td>2013</td>\n",
       "      <td>4</td>\n",
       "      <td>14</td>\n",
       "      <td>0</td>\n",
       "    </tr>\n",
       "  </tbody>\n",
       "</table>\n",
       "</div>"
      ],
      "text/plain": [
       "         id  chain    offer  market  repeattrips repeater  offerdate  \\\n",
       "0     86246    205  1208251      34            5        t 2013-04-24   \n",
       "1     86252    205  1197502      34           16        t 2013-03-27   \n",
       "2  12682470     18  1197502      11            0        f 2013-03-28   \n",
       "3  12996040     15  1197502       9            0        f 2013-03-25   \n",
       "4  13089312     15  1204821       9            0        f 2013-04-01   \n",
       "\n",
       "   category  quantity    company  offervalue   brand  year  month  week  \\\n",
       "0      2202         1  104460040        2.00    3718  2013      4    17   \n",
       "1      3203         1  106414464        0.75   13474  2013      3    13   \n",
       "2      3203         1  106414464        0.75   13474  2013      3    13   \n",
       "3      3203         1  106414464        0.75   13474  2013      3    13   \n",
       "4      5619         1  107717272        1.50  102504  2013      4    14   \n",
       "\n",
       "   dayofweek  \n",
       "0          2  \n",
       "1          2  \n",
       "2          3  \n",
       "3          0  \n",
       "4          0  "
      ]
     },
     "execution_count": 43,
     "metadata": {},
     "output_type": "execute_result"
    }
   ],
   "source": [
    "merged.head()"
   ]
  },
  {
   "cell_type": "code",
   "execution_count": 2,
   "metadata": {
    "collapsed": false
   },
   "outputs": [
    {
     "ename": "NameError",
     "evalue": "name 'merged' is not defined",
     "output_type": "error",
     "traceback": [
      "\u001b[1;31m---------------------------------------------------------------------------\u001b[0m",
      "\u001b[1;31mNameError\u001b[0m                                 Traceback (most recent call last)",
      "\u001b[1;32m<ipython-input-2-745b892808d3>\u001b[0m in \u001b[0;36m<module>\u001b[1;34m()\u001b[0m\n\u001b[1;32m----> 1\u001b[1;33m \u001b[0mmerged\u001b[0m\u001b[1;33m.\u001b[0m\u001b[0mgroupby\u001b[0m\u001b[1;33m(\u001b[0m\u001b[1;34m'offer'\u001b[0m\u001b[1;33m)\u001b[0m\u001b[1;33m.\u001b[0m\u001b[0msize\u001b[0m\u001b[1;33m(\u001b[0m\u001b[1;33m)\u001b[0m\u001b[1;33m.\u001b[0m\u001b[0msort_values\u001b[0m\u001b[1;33m(\u001b[0m\u001b[0mascending\u001b[0m\u001b[1;33m=\u001b[0m\u001b[0mFalse\u001b[0m\u001b[1;33m)\u001b[0m\u001b[1;33m.\u001b[0m\u001b[0mplot\u001b[0m\u001b[1;33m(\u001b[0m\u001b[1;33m)\u001b[0m\u001b[1;33m\u001b[0m\u001b[0m\n\u001b[0m",
      "\u001b[1;31mNameError\u001b[0m: name 'merged' is not defined"
     ]
    }
   ],
   "source": [
    "merged.groupby('offer').size().sort_values(ascending=False).plot()"
   ]
  },
  {
   "cell_type": "code",
   "execution_count": null,
   "metadata": {
    "collapsed": true
   },
   "outputs": [],
   "source": []
  }
 ],
 "metadata": {
  "kernelspec": {
   "display_name": "Python 2",
   "language": "python",
   "name": "python2"
  },
  "language_info": {
   "codemirror_mode": {
    "name": "ipython",
    "version": 2
   },
   "file_extension": ".py",
   "mimetype": "text/x-python",
   "name": "python",
   "nbconvert_exporter": "python",
   "pygments_lexer": "ipython2",
   "version": "2.7.11"
  }
 },
 "nbformat": 4,
 "nbformat_minor": 0
}
