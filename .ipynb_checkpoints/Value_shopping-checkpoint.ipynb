{
 "cells": [
  {
   "cell_type": "markdown",
   "metadata": {
    "collapsed": true
   },
   "source": [
    "# Predicting Repeat Buyers"
   ]
  },
  {
   "cell_type": "code",
   "execution_count": 1,
   "metadata": {
    "collapsed": false
   },
   "outputs": [
    {
     "name": "stderr",
     "output_type": "stream",
     "text": [
      "/home/ubuntu/anaconda2/lib/python2.7/site-packages/matplotlib/font_manager.py:273: UserWarning: Matplotlib is building the font cache using fc-list. This may take a moment.\n",
      "  warnings.warn('Matplotlib is building the font cache using fc-list. This may take a moment.')\n"
     ]
    }
   ],
   "source": [
    "import pandas as pd\n",
    "import numpy as np\n",
    "import matplotlib.pyplot as plt\n",
    "import xgboost as xgb\n",
    "from sklearn.preprocessing import LabelEncoder\n",
    "from sklearn.metrics import confusion_matrix\n",
    "from sklearn import metrics\n",
    "\n",
    "%matplotlib inline"
   ]
  },
  {
   "cell_type": "code",
   "execution_count": 2,
   "metadata": {
    "collapsed": false
   },
   "outputs": [],
   "source": [
    "train = pd.read_csv(\"trainHistory.csv\", parse_dates =['offerdate'])\n",
    "test= pd.read_csv(\"testHistory.csv\",parse_dates =['offerdate'])\n",
    "offer = pd.read_csv(\"offers.csv\")"
   ]
  },
  {
   "cell_type": "code",
   "execution_count": null,
   "metadata": {
    "collapsed": true
   },
   "outputs": [],
   "source": [
    "# Data Reduction Script used from Triskelion \n",
    "transactions = pd.read_csv(\"../transactions/reduced2.csv\",parse_dates =['date'])"
   ]
  },
  {
   "cell_type": "code",
   "execution_count": 8,
   "metadata": {
    "collapsed": false,
    "scrolled": true
   },
   "outputs": [],
   "source": [
    "transactions = pd.read_csv(\"../transactions/transactions.csv\",parse_dates =['date'])"
   ]
  },
  {
   "cell_type": "markdown",
   "metadata": {},
   "source": [
    "## Preprocessing Data"
   ]
  },
  {
   "cell_type": "code",
   "execution_count": 9,
   "metadata": {
    "collapsed": true
   },
   "outputs": [],
   "source": [
    "#Merge train and test set with offer and create additional date features\n",
    "def preprocessing(x):\n",
    "    \n",
    "    x = pd.merge(x,offer,left_on='offer',right_on='offer',how='left')\n",
    "    \n",
    "    x['year'] = x.offerdate.apply(lambda n: n.year)\n",
    "    x['month'] = x.offerdate.apply(lambda n: n.month)\n",
    "    x['week'] = x.offerdate.apply(lambda n: n.week)\n",
    "    x['dayofweek'] = x.offerdate.apply(lambda n: n.dayofweek)\n",
    "    return x"
   ]
  },
  {
   "cell_type": "code",
   "execution_count": 10,
   "metadata": {
    "collapsed": true
   },
   "outputs": [],
   "source": [
    "test = preprocessing(test)\n",
    "train = preprocessing(train)"
   ]
  },
  {
   "cell_type": "code",
   "execution_count": 11,
   "metadata": {
    "collapsed": false,
    "scrolled": true
   },
   "outputs": [],
   "source": [
    "x = train[['id','offerdate']]\n",
    "y = test[['id','offerdate']]\n",
    "z = pd.concat([x,y])\n",
    "transactions = pd.merge(transactions,z,left_on='id',right_on='id',how='left')\n",
    "transactions['date_difference'] = transactions.offerdate - transactions.date"
   ]
  },
  {
   "cell_type": "code",
   "execution_count": 12,
   "metadata": {
    "collapsed": false,
    "scrolled": false
   },
   "outputs": [
    {
     "data": {
      "text/html": [
       "<div>\n",
       "<table border=\"1\" class=\"dataframe\">\n",
       "  <thead>\n",
       "    <tr style=\"text-align: right;\">\n",
       "      <th></th>\n",
       "      <th>id</th>\n",
       "      <th>chain</th>\n",
       "      <th>dept</th>\n",
       "      <th>category</th>\n",
       "      <th>company</th>\n",
       "      <th>brand</th>\n",
       "      <th>date</th>\n",
       "      <th>productsize</th>\n",
       "      <th>productmeasure</th>\n",
       "      <th>purchasequantity</th>\n",
       "      <th>purchaseamount</th>\n",
       "      <th>offerdate</th>\n",
       "      <th>date_difference</th>\n",
       "    </tr>\n",
       "  </thead>\n",
       "  <tbody>\n",
       "    <tr>\n",
       "      <th>0</th>\n",
       "      <td>86246</td>\n",
       "      <td>205</td>\n",
       "      <td>7</td>\n",
       "      <td>707</td>\n",
       "      <td>1078778070</td>\n",
       "      <td>12564</td>\n",
       "      <td>2012-03-02</td>\n",
       "      <td>12</td>\n",
       "      <td>OZ</td>\n",
       "      <td>1</td>\n",
       "      <td>7.59</td>\n",
       "      <td>2013-04-24</td>\n",
       "      <td>418 days</td>\n",
       "    </tr>\n",
       "    <tr>\n",
       "      <th>1</th>\n",
       "      <td>86246</td>\n",
       "      <td>205</td>\n",
       "      <td>63</td>\n",
       "      <td>6319</td>\n",
       "      <td>107654575</td>\n",
       "      <td>17876</td>\n",
       "      <td>2012-03-02</td>\n",
       "      <td>64</td>\n",
       "      <td>OZ</td>\n",
       "      <td>1</td>\n",
       "      <td>1.59</td>\n",
       "      <td>2013-04-24</td>\n",
       "      <td>418 days</td>\n",
       "    </tr>\n",
       "    <tr>\n",
       "      <th>2</th>\n",
       "      <td>86246</td>\n",
       "      <td>205</td>\n",
       "      <td>97</td>\n",
       "      <td>9753</td>\n",
       "      <td>1022027929</td>\n",
       "      <td>0</td>\n",
       "      <td>2012-03-02</td>\n",
       "      <td>1</td>\n",
       "      <td>CT</td>\n",
       "      <td>1</td>\n",
       "      <td>5.99</td>\n",
       "      <td>2013-04-24</td>\n",
       "      <td>418 days</td>\n",
       "    </tr>\n",
       "    <tr>\n",
       "      <th>3</th>\n",
       "      <td>86246</td>\n",
       "      <td>205</td>\n",
       "      <td>25</td>\n",
       "      <td>2509</td>\n",
       "      <td>107996777</td>\n",
       "      <td>31373</td>\n",
       "      <td>2012-03-02</td>\n",
       "      <td>16</td>\n",
       "      <td>OZ</td>\n",
       "      <td>1</td>\n",
       "      <td>1.99</td>\n",
       "      <td>2013-04-24</td>\n",
       "      <td>418 days</td>\n",
       "    </tr>\n",
       "    <tr>\n",
       "      <th>4</th>\n",
       "      <td>86246</td>\n",
       "      <td>205</td>\n",
       "      <td>55</td>\n",
       "      <td>5555</td>\n",
       "      <td>107684070</td>\n",
       "      <td>32094</td>\n",
       "      <td>2012-03-02</td>\n",
       "      <td>16</td>\n",
       "      <td>OZ</td>\n",
       "      <td>2</td>\n",
       "      <td>10.38</td>\n",
       "      <td>2013-04-24</td>\n",
       "      <td>418 days</td>\n",
       "    </tr>\n",
       "  </tbody>\n",
       "</table>\n",
       "</div>"
      ],
      "text/plain": [
       "      id  chain  dept  category     company  brand       date  productsize  \\\n",
       "0  86246    205     7       707  1078778070  12564 2012-03-02           12   \n",
       "1  86246    205    63      6319   107654575  17876 2012-03-02           64   \n",
       "2  86246    205    97      9753  1022027929      0 2012-03-02            1   \n",
       "3  86246    205    25      2509   107996777  31373 2012-03-02           16   \n",
       "4  86246    205    55      5555   107684070  32094 2012-03-02           16   \n",
       "\n",
       "  productmeasure  purchasequantity  purchaseamount  offerdate  date_difference  \n",
       "0             OZ                 1            7.59 2013-04-24         418 days  \n",
       "1             OZ                 1            1.59 2013-04-24         418 days  \n",
       "2             CT                 1            5.99 2013-04-24         418 days  \n",
       "3             OZ                 1            1.99 2013-04-24         418 days  \n",
       "4             OZ                 2           10.38 2013-04-24         418 days  "
      ]
     },
     "execution_count": 12,
     "metadata": {},
     "output_type": "execute_result"
    }
   ],
   "source": [
    "transactions.head()"
   ]
  },
  {
   "cell_type": "code",
   "execution_count": 13,
   "metadata": {
    "collapsed": false,
    "scrolled": false
   },
   "outputs": [],
   "source": [
    "#How many times bought from a Category, Company, brand and chain\n",
    "for n in ['category','company','brand','chain']:\n",
    "    x = transactions.groupby(['id',n]).size()\n",
    "    x = pd.DataFrame(x).reset_index()\n",
    "    x.columns = ['id', n, n+'_frequency_bought']\n",
    "    train = pd.merge(train,x,left_on=['id',n],right_on=['id',n],how='left')\n",
    "    test = pd.merge(test,x,left_on=['id',n],right_on=['id',n],how='left')"
   ]
  },
  {
   "cell_type": "code",
   "execution_count": 14,
   "metadata": {
    "collapsed": true
   },
   "outputs": [],
   "source": [
    "#Whether or not they have purchased from the category,company,brand and chain\n",
    "for n in ['category','company','brand','chain']:\n",
    "    \n",
    "    train['has_bought_'+n] = train[n+'_frequency_bought'].apply(lambda x: 1 if x >= 1 else 0)\n",
    "    test['has_bought_'+n] = test[n+'_frequency_bought'].apply(lambda x: 1 if x >= 1 else 0)"
   ]
  },
  {
   "cell_type": "code",
   "execution_count": 16,
   "metadata": {
    "collapsed": true
   },
   "outputs": [],
   "source": [
    "#Total spent by customer\n",
    "x = transactions.groupby('id').purchaseamount.sum()\n",
    "x = pd.DataFrame(x).reset_index()\n",
    "x.columns = ['id','Total_Spent']\n",
    "train = pd.merge(train,x,left_on=['id'],right_on=['id'],how='left')\n",
    "test = pd.merge(test,x,left_on=['id'],right_on=['id'],how='left')"
   ]
  },
  {
   "cell_type": "code",
   "execution_count": 17,
   "metadata": {
    "collapsed": false
   },
   "outputs": [],
   "source": [
    "#How much quantity from a Category, Company, brand and chain\n",
    "for n in ['category','company','brand','chain']:\n",
    "    x = transactions.groupby(['id',n]).purchasequantity.sum()\n",
    "    x = pd.DataFrame(x).reset_index()\n",
    "    x.columns = ['id', n, n+'_quantity_bought']\n",
    "    train = pd.merge(train,x,left_on=['id',n],right_on=['id',n],how='left')\n",
    "    test = pd.merge(test,x,left_on=['id',n],right_on=['id',n],how='left')"
   ]
  },
  {
   "cell_type": "code",
   "execution_count": 18,
   "metadata": {
    "collapsed": false
   },
   "outputs": [],
   "source": [
    "#Total Dollar Value bought from category, company,brand and chain\n",
    "for n in ['category','company','brand','chain']:\n",
    "    x = transactions.groupby(['id',n]).purchaseamount.sum()\n",
    "    x = pd.DataFrame(x).reset_index()\n",
    "    x.columns = ['id',n,n + '_dollars_spent']\n",
    "    train = pd.merge(train,x,left_on=['id',n],right_on=['id',n],how='left')\n",
    "    test = pd.merge(test,x,left_on=['id',n],right_on=['id',n],how='left')"
   ]
  },
  {
   "cell_type": "code",
   "execution_count": 19,
   "metadata": {
    "collapsed": false
   },
   "outputs": [],
   "source": [
    "# Number of purchases from combined category + company + brand + chain\n",
    "x = transactions.groupby(['id','category','company','brand','chain']).size()\n",
    "x = pd.DataFrame(x).reset_index()\n",
    "x.columns = ['id','category','company','brand','chain', 'All_quantity_bought']\n",
    "train = pd.merge(train,x,left_on=['id','category','company','brand','chain'],right_on=['id','category','company','brand','chain'],how='left')\n",
    "test = pd.merge(test,x,left_on=['id','category','company','brand','chain'],right_on=['id','category','company','brand','chain'],how='left')"
   ]
  },
  {
   "cell_type": "code",
   "execution_count": 20,
   "metadata": {
    "collapsed": false
   },
   "outputs": [],
   "source": [
    "# Dollar Amount from combined category + company + brand + chain\n",
    "x = transactions.groupby(['id','category','company','brand','chain']).purchaseamount.sum()\n",
    "x = pd.DataFrame(x).reset_index()\n",
    "x.columns = ['id','category','company','brand','chain', 'All_dollar_spent']\n",
    "train = pd.merge(train,x,left_on=['id','category','company','brand','chain'],right_on=['id','category','company','brand','chain'],how='left')\n",
    "test = pd.merge(test,x,left_on=['id','category','company','brand','chain'],right_on=['id','category','company','brand','chain'],how='left')"
   ]
  },
  {
   "cell_type": "code",
   "execution_count": 21,
   "metadata": {
    "collapsed": false
   },
   "outputs": [],
   "source": [
    "#Time Segements how frequency,quantity and amount purchased in last 30,60,90,180 days\n",
    "for n in ['category','company','brand','chain']:\n",
    "    \n",
    "    for z in ['30','60','90','180']:\n",
    "        \n",
    "        x = transactions[transactions.date_difference < z + ' days'].groupby(['id',n]).size()\n",
    "        x = pd.DataFrame(x).reset_index()\n",
    "        x.columns = ['id',n,n +'_frequency_bought_'+ z]\n",
    "        train = pd.merge(train,x,left_on=['id',n],right_on=['id',n],how='left')\n",
    "        test = pd.merge(test,x,left_on=['id',n],right_on=['id',n],how='left')\n",
    "        \n",
    "        x = transactions[transactions.date_difference < z + ' days'].groupby(['id',n]).agg({'purchasequantity': np.sum,'purchaseamount':np.sum})\n",
    "        x = pd.DataFrame(x).reset_index()\n",
    "        x.columns = ['id',n,n +'_dollars_spent_'+ z,n +'_quantity_bought_'+ z]\n",
    "        train = pd.merge(train,x,left_on=['id',n],right_on=['id',n],how='left')\n",
    "        test = pd.merge(test,x,left_on=['id',n],right_on=['id',n],how='left')"
   ]
  },
  {
   "cell_type": "code",
   "execution_count": 22,
   "metadata": {
    "collapsed": false,
    "scrolled": true
   },
   "outputs": [
    {
     "data": {
      "text/html": [
       "<div>\n",
       "<table border=\"1\" class=\"dataframe\">\n",
       "  <thead>\n",
       "    <tr style=\"text-align: right;\">\n",
       "      <th></th>\n",
       "      <th>id</th>\n",
       "      <th>chain</th>\n",
       "      <th>offer</th>\n",
       "      <th>market</th>\n",
       "      <th>repeattrips</th>\n",
       "      <th>repeater</th>\n",
       "      <th>offerdate</th>\n",
       "      <th>category</th>\n",
       "      <th>quantity</th>\n",
       "      <th>company</th>\n",
       "      <th>...</th>\n",
       "      <th>chain_quantity_bought_30</th>\n",
       "      <th>chain_frequency_bought_60</th>\n",
       "      <th>chain_dollars_spent_60</th>\n",
       "      <th>chain_quantity_bought_60</th>\n",
       "      <th>chain_frequency_bought_90</th>\n",
       "      <th>chain_dollars_spent_90</th>\n",
       "      <th>chain_quantity_bought_90</th>\n",
       "      <th>chain_frequency_bought_180</th>\n",
       "      <th>chain_dollars_spent_180</th>\n",
       "      <th>chain_quantity_bought_180</th>\n",
       "    </tr>\n",
       "  </thead>\n",
       "  <tbody>\n",
       "    <tr>\n",
       "      <th>0</th>\n",
       "      <td>86246</td>\n",
       "      <td>205</td>\n",
       "      <td>1208251</td>\n",
       "      <td>34</td>\n",
       "      <td>5</td>\n",
       "      <td>t</td>\n",
       "      <td>2013-04-24</td>\n",
       "      <td>2202</td>\n",
       "      <td>1</td>\n",
       "      <td>104460040</td>\n",
       "      <td>...</td>\n",
       "      <td>5725</td>\n",
       "      <td>7639</td>\n",
       "      <td>31692.22</td>\n",
       "      <td>10881</td>\n",
       "      <td>8036</td>\n",
       "      <td>33573.51</td>\n",
       "      <td>11420</td>\n",
       "      <td>8922</td>\n",
       "      <td>37321.05</td>\n",
       "      <td>12540</td>\n",
       "    </tr>\n",
       "    <tr>\n",
       "      <th>1</th>\n",
       "      <td>86252</td>\n",
       "      <td>205</td>\n",
       "      <td>1197502</td>\n",
       "      <td>34</td>\n",
       "      <td>16</td>\n",
       "      <td>t</td>\n",
       "      <td>2013-03-27</td>\n",
       "      <td>3203</td>\n",
       "      <td>1</td>\n",
       "      <td>106414464</td>\n",
       "      <td>...</td>\n",
       "      <td>10137</td>\n",
       "      <td>6756</td>\n",
       "      <td>31237.42</td>\n",
       "      <td>10667</td>\n",
       "      <td>7129</td>\n",
       "      <td>32784.22</td>\n",
       "      <td>11186</td>\n",
       "      <td>8743</td>\n",
       "      <td>39491.70</td>\n",
       "      <td>13298</td>\n",
       "    </tr>\n",
       "    <tr>\n",
       "      <th>2</th>\n",
       "      <td>12682470</td>\n",
       "      <td>18</td>\n",
       "      <td>1197502</td>\n",
       "      <td>11</td>\n",
       "      <td>0</td>\n",
       "      <td>f</td>\n",
       "      <td>2013-03-28</td>\n",
       "      <td>3203</td>\n",
       "      <td>1</td>\n",
       "      <td>106414464</td>\n",
       "      <td>...</td>\n",
       "      <td>43</td>\n",
       "      <td>86</td>\n",
       "      <td>391.26</td>\n",
       "      <td>110</td>\n",
       "      <td>187</td>\n",
       "      <td>775.38</td>\n",
       "      <td>231</td>\n",
       "      <td>429</td>\n",
       "      <td>1837.88</td>\n",
       "      <td>533</td>\n",
       "    </tr>\n",
       "    <tr>\n",
       "      <th>3</th>\n",
       "      <td>12996040</td>\n",
       "      <td>15</td>\n",
       "      <td>1197502</td>\n",
       "      <td>9</td>\n",
       "      <td>0</td>\n",
       "      <td>f</td>\n",
       "      <td>2013-03-25</td>\n",
       "      <td>3203</td>\n",
       "      <td>1</td>\n",
       "      <td>106414464</td>\n",
       "      <td>...</td>\n",
       "      <td>25</td>\n",
       "      <td>59</td>\n",
       "      <td>278.97</td>\n",
       "      <td>67</td>\n",
       "      <td>79</td>\n",
       "      <td>354.11</td>\n",
       "      <td>92</td>\n",
       "      <td>151</td>\n",
       "      <td>724.63</td>\n",
       "      <td>178</td>\n",
       "    </tr>\n",
       "    <tr>\n",
       "      <th>4</th>\n",
       "      <td>13089312</td>\n",
       "      <td>15</td>\n",
       "      <td>1204821</td>\n",
       "      <td>9</td>\n",
       "      <td>0</td>\n",
       "      <td>f</td>\n",
       "      <td>2013-04-01</td>\n",
       "      <td>5619</td>\n",
       "      <td>1</td>\n",
       "      <td>107717272</td>\n",
       "      <td>...</td>\n",
       "      <td>157</td>\n",
       "      <td>213</td>\n",
       "      <td>646.21</td>\n",
       "      <td>264</td>\n",
       "      <td>284</td>\n",
       "      <td>838.40</td>\n",
       "      <td>344</td>\n",
       "      <td>551</td>\n",
       "      <td>1566.45</td>\n",
       "      <td>667</td>\n",
       "    </tr>\n",
       "  </tbody>\n",
       "</table>\n",
       "<p>5 rows × 83 columns</p>\n",
       "</div>"
      ],
      "text/plain": [
       "         id  chain    offer  market  repeattrips repeater  offerdate  \\\n",
       "0     86246    205  1208251      34            5        t 2013-04-24   \n",
       "1     86252    205  1197502      34           16        t 2013-03-27   \n",
       "2  12682470     18  1197502      11            0        f 2013-03-28   \n",
       "3  12996040     15  1197502       9            0        f 2013-03-25   \n",
       "4  13089312     15  1204821       9            0        f 2013-04-01   \n",
       "\n",
       "   category  quantity    company            ...              \\\n",
       "0      2202         1  104460040            ...               \n",
       "1      3203         1  106414464            ...               \n",
       "2      3203         1  106414464            ...               \n",
       "3      3203         1  106414464            ...               \n",
       "4      5619         1  107717272            ...               \n",
       "\n",
       "   chain_quantity_bought_30  chain_frequency_bought_60  \\\n",
       "0                      5725                       7639   \n",
       "1                     10137                       6756   \n",
       "2                        43                         86   \n",
       "3                        25                         59   \n",
       "4                       157                        213   \n",
       "\n",
       "   chain_dollars_spent_60  chain_quantity_bought_60  \\\n",
       "0                31692.22                     10881   \n",
       "1                31237.42                     10667   \n",
       "2                  391.26                       110   \n",
       "3                  278.97                        67   \n",
       "4                  646.21                       264   \n",
       "\n",
       "   chain_frequency_bought_90  chain_dollars_spent_90  \\\n",
       "0                       8036                33573.51   \n",
       "1                       7129                32784.22   \n",
       "2                        187                  775.38   \n",
       "3                         79                  354.11   \n",
       "4                        284                  838.40   \n",
       "\n",
       "   chain_quantity_bought_90  chain_frequency_bought_180  \\\n",
       "0                     11420                        8922   \n",
       "1                     11186                        8743   \n",
       "2                       231                         429   \n",
       "3                        92                         151   \n",
       "4                       344                         551   \n",
       "\n",
       "   chain_dollars_spent_180  chain_quantity_bought_180  \n",
       "0                 37321.05                      12540  \n",
       "1                 39491.70                      13298  \n",
       "2                  1837.88                        533  \n",
       "3                   724.63                        178  \n",
       "4                  1566.45                        667  \n",
       "\n",
       "[5 rows x 83 columns]"
      ]
     },
     "execution_count": 22,
     "metadata": {},
     "output_type": "execute_result"
    }
   ],
   "source": [
    "train.head()"
   ]
  },
  {
   "cell_type": "code",
   "execution_count": 23,
   "metadata": {
    "collapsed": false
   },
   "outputs": [
    {
     "data": {
      "text/html": [
       "<div>\n",
       "<table border=\"1\" class=\"dataframe\">\n",
       "  <thead>\n",
       "    <tr style=\"text-align: right;\">\n",
       "      <th></th>\n",
       "      <th>id</th>\n",
       "      <th>chain</th>\n",
       "      <th>offer</th>\n",
       "      <th>market</th>\n",
       "      <th>offerdate</th>\n",
       "      <th>category</th>\n",
       "      <th>quantity</th>\n",
       "      <th>company</th>\n",
       "      <th>offervalue</th>\n",
       "      <th>brand</th>\n",
       "      <th>...</th>\n",
       "      <th>chain_quantity_bought_30</th>\n",
       "      <th>chain_frequency_bought_60</th>\n",
       "      <th>chain_dollars_spent_60</th>\n",
       "      <th>chain_quantity_bought_60</th>\n",
       "      <th>chain_frequency_bought_90</th>\n",
       "      <th>chain_dollars_spent_90</th>\n",
       "      <th>chain_quantity_bought_90</th>\n",
       "      <th>chain_frequency_bought_180</th>\n",
       "      <th>chain_dollars_spent_180</th>\n",
       "      <th>chain_quantity_bought_180</th>\n",
       "    </tr>\n",
       "  </thead>\n",
       "  <tbody>\n",
       "    <tr>\n",
       "      <th>0</th>\n",
       "      <td>12262064</td>\n",
       "      <td>95</td>\n",
       "      <td>1219903</td>\n",
       "      <td>39</td>\n",
       "      <td>2013-06-27</td>\n",
       "      <td>799</td>\n",
       "      <td>1</td>\n",
       "      <td>1076211171</td>\n",
       "      <td>1.5</td>\n",
       "      <td>17286</td>\n",
       "      <td>...</td>\n",
       "      <td>125</td>\n",
       "      <td>179</td>\n",
       "      <td>551.76</td>\n",
       "      <td>205</td>\n",
       "      <td>232</td>\n",
       "      <td>699.70</td>\n",
       "      <td>260</td>\n",
       "      <td>317</td>\n",
       "      <td>1023.30</td>\n",
       "      <td>358</td>\n",
       "    </tr>\n",
       "    <tr>\n",
       "      <th>1</th>\n",
       "      <td>12277270</td>\n",
       "      <td>95</td>\n",
       "      <td>1221658</td>\n",
       "      <td>39</td>\n",
       "      <td>2013-06-23</td>\n",
       "      <td>7205</td>\n",
       "      <td>2</td>\n",
       "      <td>103700030</td>\n",
       "      <td>3.0</td>\n",
       "      <td>4294</td>\n",
       "      <td>...</td>\n",
       "      <td>109</td>\n",
       "      <td>139</td>\n",
       "      <td>812.26</td>\n",
       "      <td>177</td>\n",
       "      <td>195</td>\n",
       "      <td>1167.37</td>\n",
       "      <td>243</td>\n",
       "      <td>472</td>\n",
       "      <td>3063.53</td>\n",
       "      <td>594</td>\n",
       "    </tr>\n",
       "    <tr>\n",
       "      <th>2</th>\n",
       "      <td>12332190</td>\n",
       "      <td>95</td>\n",
       "      <td>1213242</td>\n",
       "      <td>39</td>\n",
       "      <td>2013-06-15</td>\n",
       "      <td>5824</td>\n",
       "      <td>1</td>\n",
       "      <td>105190050</td>\n",
       "      <td>2.0</td>\n",
       "      <td>26456</td>\n",
       "      <td>...</td>\n",
       "      <td>18</td>\n",
       "      <td>48</td>\n",
       "      <td>155.18</td>\n",
       "      <td>64</td>\n",
       "      <td>85</td>\n",
       "      <td>303.09</td>\n",
       "      <td>129</td>\n",
       "      <td>250</td>\n",
       "      <td>1157.95</td>\n",
       "      <td>325</td>\n",
       "    </tr>\n",
       "    <tr>\n",
       "      <th>3</th>\n",
       "      <td>12524696</td>\n",
       "      <td>4</td>\n",
       "      <td>1221665</td>\n",
       "      <td>1</td>\n",
       "      <td>2013-06-20</td>\n",
       "      <td>7205</td>\n",
       "      <td>1</td>\n",
       "      <td>103700030</td>\n",
       "      <td>1.5</td>\n",
       "      <td>4294</td>\n",
       "      <td>...</td>\n",
       "      <td>81</td>\n",
       "      <td>110</td>\n",
       "      <td>382.64</td>\n",
       "      <td>157</td>\n",
       "      <td>189</td>\n",
       "      <td>720.66</td>\n",
       "      <td>260</td>\n",
       "      <td>369</td>\n",
       "      <td>1385.56</td>\n",
       "      <td>492</td>\n",
       "    </tr>\n",
       "    <tr>\n",
       "      <th>4</th>\n",
       "      <td>13074629</td>\n",
       "      <td>14</td>\n",
       "      <td>1221658</td>\n",
       "      <td>8</td>\n",
       "      <td>2013-06-21</td>\n",
       "      <td>7205</td>\n",
       "      <td>2</td>\n",
       "      <td>103700030</td>\n",
       "      <td>3.0</td>\n",
       "      <td>4294</td>\n",
       "      <td>...</td>\n",
       "      <td>115</td>\n",
       "      <td>185</td>\n",
       "      <td>1570.75</td>\n",
       "      <td>247</td>\n",
       "      <td>298</td>\n",
       "      <td>2688.02</td>\n",
       "      <td>385</td>\n",
       "      <td>634</td>\n",
       "      <td>5456.69</td>\n",
       "      <td>860</td>\n",
       "    </tr>\n",
       "  </tbody>\n",
       "</table>\n",
       "<p>5 rows × 81 columns</p>\n",
       "</div>"
      ],
      "text/plain": [
       "         id  chain    offer  market  offerdate  category  quantity  \\\n",
       "0  12262064     95  1219903      39 2013-06-27       799         1   \n",
       "1  12277270     95  1221658      39 2013-06-23      7205         2   \n",
       "2  12332190     95  1213242      39 2013-06-15      5824         1   \n",
       "3  12524696      4  1221665       1 2013-06-20      7205         1   \n",
       "4  13074629     14  1221658       8 2013-06-21      7205         2   \n",
       "\n",
       "      company  offervalue  brand            ...              \\\n",
       "0  1076211171         1.5  17286            ...               \n",
       "1   103700030         3.0   4294            ...               \n",
       "2   105190050         2.0  26456            ...               \n",
       "3   103700030         1.5   4294            ...               \n",
       "4   103700030         3.0   4294            ...               \n",
       "\n",
       "   chain_quantity_bought_30  chain_frequency_bought_60  \\\n",
       "0                       125                        179   \n",
       "1                       109                        139   \n",
       "2                        18                         48   \n",
       "3                        81                        110   \n",
       "4                       115                        185   \n",
       "\n",
       "   chain_dollars_spent_60  chain_quantity_bought_60  \\\n",
       "0                  551.76                       205   \n",
       "1                  812.26                       177   \n",
       "2                  155.18                        64   \n",
       "3                  382.64                       157   \n",
       "4                 1570.75                       247   \n",
       "\n",
       "   chain_frequency_bought_90  chain_dollars_spent_90  \\\n",
       "0                        232                  699.70   \n",
       "1                        195                 1167.37   \n",
       "2                         85                  303.09   \n",
       "3                        189                  720.66   \n",
       "4                        298                 2688.02   \n",
       "\n",
       "   chain_quantity_bought_90  chain_frequency_bought_180  \\\n",
       "0                       260                         317   \n",
       "1                       243                         472   \n",
       "2                       129                         250   \n",
       "3                       260                         369   \n",
       "4                       385                         634   \n",
       "\n",
       "   chain_dollars_spent_180  chain_quantity_bought_180  \n",
       "0                  1023.30                        358  \n",
       "1                  3063.53                        594  \n",
       "2                  1157.95                        325  \n",
       "3                  1385.56                        492  \n",
       "4                  5456.69                        860  \n",
       "\n",
       "[5 rows x 81 columns]"
      ]
     },
     "execution_count": 23,
     "metadata": {},
     "output_type": "execute_result"
    }
   ],
   "source": [
    "test.head()"
   ]
  },
  {
   "cell_type": "code",
   "execution_count": 26,
   "metadata": {
    "collapsed": false,
    "scrolled": false
   },
   "outputs": [
    {
     "data": {
      "text/plain": [
       "id                              0\n",
       "chain                           0\n",
       "offer                           0\n",
       "market                          0\n",
       "offerdate                       0\n",
       "category                        0\n",
       "quantity                        0\n",
       "company                         0\n",
       "offervalue                      0\n",
       "brand                           0\n",
       "year                            0\n",
       "month                           0\n",
       "week                            0\n",
       "dayofweek                       0\n",
       "category_frequency_bought       0\n",
       "company_frequency_bought        0\n",
       "brand_frequency_bought          0\n",
       "chain_frequency_bought          0\n",
       "has_bought_category             0\n",
       "has_bought_company              0\n",
       "has_bought_brand                0\n",
       "has_bought_chain                0\n",
       "Total_Spent                     0\n",
       "category_quantity_bought        0\n",
       "company_quantity_bought         0\n",
       "brand_quantity_bought           0\n",
       "chain_quantity_bought           0\n",
       "category_dollars_spent          0\n",
       "company_dollars_spent           0\n",
       "brand_dollars_spent             0\n",
       "                               ..\n",
       "company_frequency_bought_90     0\n",
       "company_dollars_spent_90        0\n",
       "company_quantity_bought_90      0\n",
       "company_frequency_bought_180    0\n",
       "company_dollars_spent_180       0\n",
       "company_quantity_bought_180     0\n",
       "brand_frequency_bought_30       0\n",
       "brand_dollars_spent_30          0\n",
       "brand_quantity_bought_30        0\n",
       "brand_frequency_bought_60       0\n",
       "brand_dollars_spent_60          0\n",
       "brand_quantity_bought_60        0\n",
       "brand_frequency_bought_90       0\n",
       "brand_dollars_spent_90          0\n",
       "brand_quantity_bought_90        0\n",
       "brand_frequency_bought_180      0\n",
       "brand_dollars_spent_180         0\n",
       "brand_quantity_bought_180       0\n",
       "chain_frequency_bought_30       0\n",
       "chain_dollars_spent_30          0\n",
       "chain_quantity_bought_30        0\n",
       "chain_frequency_bought_60       0\n",
       "chain_dollars_spent_60          0\n",
       "chain_quantity_bought_60        0\n",
       "chain_frequency_bought_90       0\n",
       "chain_dollars_spent_90          0\n",
       "chain_quantity_bought_90        0\n",
       "chain_frequency_bought_180      0\n",
       "chain_dollars_spent_180         0\n",
       "chain_quantity_bought_180       0\n",
       "dtype: int64"
      ]
     },
     "execution_count": 26,
     "metadata": {},
     "output_type": "execute_result"
    }
   ],
   "source": [
    "test.isnull().sum()"
   ]
  },
  {
   "cell_type": "code",
   "execution_count": 25,
   "metadata": {
    "collapsed": false
   },
   "outputs": [],
   "source": [
    "# Replace NA values in Quantity bought from category and company\n",
    "train = train.fillna(0)\n",
    "test = test.fillna(0)"
   ]
  },
  {
   "cell_type": "code",
   "execution_count": 43,
   "metadata": {
    "collapsed": true
   },
   "outputs": [],
   "source": [
    "train_X = train.drop(['id'],axis=1)\n",
    "test_X = test.drop(['id'],axis=1)"
   ]
  },
  {
   "cell_type": "code",
   "execution_count": 45,
   "metadata": {
    "collapsed": false
   },
   "outputs": [],
   "source": [
    "train_X = train.drop(['id','repeattrips','repeater','offerdate','category','company','brand','chain'],axis=1)\n",
    "train_Y = train.repeater\n",
    "test_X = test.drop(['id','offerdate','category','company','brand','chain'], axis =1)\n",
    "ids = test.id.values"
   ]
  },
  {
   "cell_type": "code",
   "execution_count": 54,
   "metadata": {
    "collapsed": false
   },
   "outputs": [
    {
     "data": {
      "text/plain": [
       "array([1, 1, 0, ..., 1, 0, 0])"
      ]
     },
     "execution_count": 54,
     "metadata": {},
     "output_type": "execute_result"
    }
   ],
   "source": [
    "# Transform the labels into binary 0, 1\n",
    "le = LabelEncoder()\n",
    "train_Y = le.fit_transform(train_Y)\n",
    "train_Y"
   ]
  },
  {
   "cell_type": "code",
   "execution_count": 51,
   "metadata": {
    "collapsed": false,
    "scrolled": true
   },
   "outputs": [],
   "source": [
    "train_X.to_csv(\"Features_train.csv\", encoding= 'utf-8',index=False)\n",
    "test_X.to_csv(\"Features_test.csv\", encoding = 'utf-8', index=False)"
   ]
  },
  {
   "cell_type": "code",
   "execution_count": null,
   "metadata": {
    "collapsed": true
   },
   "outputs": [],
   "source": [
    "np.savetxt(\"Labels_train.csv\", train_Y, delimiter=\",\")"
   ]
  },
  {
   "cell_type": "markdown",
   "metadata": {},
   "source": [
    "## Data Exploration / Visualisation"
   ]
  },
  {
   "cell_type": "markdown",
   "metadata": {},
   "source": [
    "### Summary Statistics for Transactions Table"
   ]
  },
  {
   "cell_type": "code",
   "execution_count": 62,
   "metadata": {
    "collapsed": true
   },
   "outputs": [],
   "source": [
    "pd.set_option('display.float_format', lambda x: '%.3f' % x)"
   ]
  },
  {
   "cell_type": "code",
   "execution_count": 63,
   "metadata": {
    "collapsed": false,
    "scrolled": false
   },
   "outputs": [
    {
     "data": {
      "text/html": [
       "<div>\n",
       "<table border=\"1\" class=\"dataframe\">\n",
       "  <thead>\n",
       "    <tr style=\"text-align: right;\">\n",
       "      <th></th>\n",
       "      <th>productsize</th>\n",
       "      <th>purchasequantity</th>\n",
       "      <th>purchaseamount</th>\n",
       "    </tr>\n",
       "  </thead>\n",
       "  <tbody>\n",
       "    <tr>\n",
       "      <th>count</th>\n",
       "      <td>349655789.000</td>\n",
       "      <td>349655789.000</td>\n",
       "      <td>349655789.000</td>\n",
       "    </tr>\n",
       "    <tr>\n",
       "      <th>mean</th>\n",
       "      <td>27.325</td>\n",
       "      <td>1.672</td>\n",
       "      <td>4.489</td>\n",
       "    </tr>\n",
       "    <tr>\n",
       "      <th>std</th>\n",
       "      <td>51.608</td>\n",
       "      <td>40.314</td>\n",
       "      <td>878.934</td>\n",
       "    </tr>\n",
       "    <tr>\n",
       "      <th>min</th>\n",
       "      <td>0.000</td>\n",
       "      <td>-32255.000</td>\n",
       "      <td>-8593791.000</td>\n",
       "    </tr>\n",
       "    <tr>\n",
       "      <th>25%</th>\n",
       "      <td>6.600</td>\n",
       "      <td>1.000</td>\n",
       "      <td>1.990</td>\n",
       "    </tr>\n",
       "    <tr>\n",
       "      <th>50%</th>\n",
       "      <td>13.200</td>\n",
       "      <td>1.000</td>\n",
       "      <td>3.180</td>\n",
       "    </tr>\n",
       "    <tr>\n",
       "      <th>75%</th>\n",
       "      <td>24.000</td>\n",
       "      <td>2.000</td>\n",
       "      <td>4.990</td>\n",
       "    </tr>\n",
       "    <tr>\n",
       "      <th>max</th>\n",
       "      <td>6000.000</td>\n",
       "      <td>54800.000</td>\n",
       "      <td>58658.760</td>\n",
       "    </tr>\n",
       "  </tbody>\n",
       "</table>\n",
       "</div>"
      ],
      "text/plain": [
       "        productsize  purchasequantity  purchaseamount\n",
       "count 349655789.000     349655789.000   349655789.000\n",
       "mean         27.325             1.672           4.489\n",
       "std          51.608            40.314         878.934\n",
       "min           0.000        -32255.000    -8593791.000\n",
       "25%           6.600             1.000           1.990\n",
       "50%          13.200             1.000           3.180\n",
       "75%          24.000             2.000           4.990\n",
       "max        6000.000         54800.000       58658.760"
      ]
     },
     "execution_count": 63,
     "metadata": {},
     "output_type": "execute_result"
    }
   ],
   "source": [
    "transactions[['productsize','purchasequantity','purchaseamount']].describe()"
   ]
  },
  {
   "cell_type": "code",
   "execution_count": 61,
   "metadata": {
    "collapsed": false,
    "scrolled": false
   },
   "outputs": [
    {
     "data": {
      "text/plain": [
       "<matplotlib.axes._subplots.AxesSubplot at 0x7feecbf17ed0>"
      ]
     },
     "execution_count": 61,
     "metadata": {},
     "output_type": "execute_result"
    },
    {
     "data": {
      "image/png": "[encoded data removed]",
      "text/plain": [
       "<matplotlib.figure.Figure at 0x7fef097bcdd0>"
      ]
     },
     "metadata": {},
     "output_type": "display_data"
    }
   ],
   "source": [
    "transactions.groupby(transactions['date'].map(lambda x: x.month)).purchaseamount.sum().plot()"
   ]
  },
  {
   "cell_type": "markdown",
   "metadata": {},
   "source": [
    "### Summary Statistics for Train + Offers Table"
   ]
  },
  {
   "cell_type": "code",
   "execution_count": 157,
   "metadata": {
    "collapsed": false
   },
   "outputs": [
    {
     "data": {
      "text/plain": [
       "<matplotlib.axes._subplots.AxesSubplot at 0x2538bbd30>"
      ]
     },
     "execution_count": 157,
     "metadata": {},
     "output_type": "execute_result"
    },
    {
     "data": {
      "image/png": "[encoded data removed]",
      "text/plain": [
       "<matplotlib.figure.Figure at 0x55d60fcf8>"
      ]
     },
     "metadata": {},
     "output_type": "display_data"
    }
   ],
   "source": [
    "#Graph of non-repeaters vs repeaters\n",
    "train.repeater.value_counts().plot(kind='bar')"
   ]
  },
  {
   "cell_type": "code",
   "execution_count": 65,
   "metadata": {
    "collapsed": false
   },
   "outputs": [
    {
     "ename": "NameError",
     "evalue": "name 'scatter_matrix' is not defined",
     "output_type": "error",
     "traceback": [
      "\u001b[1;31m---------------------------------------------------------------------------\u001b[0m",
      "\u001b[1;31mNameError\u001b[0m                                 Traceback (most recent call last)",
      "\u001b[1;32m<ipython-input-65-95f54a425fd9>\u001b[0m in \u001b[0;36m<module>\u001b[1;34m()\u001b[0m\n\u001b[1;32m----> 1\u001b[1;33m \u001b[0mscatter_matrix\u001b[0m\u001b[1;33m(\u001b[0m\u001b[0mtrain\u001b[0m\u001b[1;33m,\u001b[0m \u001b[0malpha\u001b[0m\u001b[1;33m=\u001b[0m\u001b[1;36m0.2\u001b[0m\u001b[1;33m,\u001b[0m \u001b[0mfigsize\u001b[0m\u001b[1;33m=\u001b[0m\u001b[1;33m(\u001b[0m\u001b[1;36m6\u001b[0m\u001b[1;33m,\u001b[0m \u001b[1;36m6\u001b[0m\u001b[1;33m)\u001b[0m\u001b[1;33m,\u001b[0m \u001b[0mdiagonal\u001b[0m\u001b[1;33m=\u001b[0m\u001b[1;34m'kde'\u001b[0m\u001b[1;33m)\u001b[0m\u001b[1;33m\u001b[0m\u001b[0m\n\u001b[0m",
      "\u001b[1;31mNameError\u001b[0m: name 'scatter_matrix' is not defined"
     ]
    }
   ],
   "source": [
    "scatter_matrix(train, alpha=0.2, figsize=(6, 6), diagonal='kde')"
   ]
  },
  {
   "cell_type": "markdown",
   "metadata": {},
   "source": [
    "## Model Building"
   ]
  },
  {
   "cell_type": "markdown",
   "metadata": {},
   "source": [
    "### Logistic Regression"
   ]
  },
  {
   "cell_type": "code",
   "execution_count": 66,
   "metadata": {
    "collapsed": true
   },
   "outputs": [],
   "source": [
    "# Create Validation set\n",
    "from sklearn.cross_validation import train_test_split\n",
    "\n",
    "X_train, X_test, Y_train, Y_test = train_test_split(train_X, train_Y, test_size=0.2, random_state=42)"
   ]
  },
  {
   "cell_type": "code",
   "execution_count": 80,
   "metadata": {
    "collapsed": true
   },
   "outputs": [],
   "source": [
    "# List to store Results and Compare\n",
    "results = {}"
   ]
  },
  {
   "cell_type": "code",
   "execution_count": 68,
   "metadata": {
    "collapsed": false
   },
   "outputs": [],
   "source": [
    "#Train on full set\n",
    "from sklearn.linear_model import LogisticRegressionCV\n",
    "\n",
    "log = LogisticRegressionCV(cv = 5)\n",
    "\n",
    "log.fit(train_X,train_Y)\n",
    "y_pred_log = log.predict_proba(test_X)"
   ]
  },
  {
   "cell_type": "code",
   "execution_count": 70,
   "metadata": {
    "collapsed": true
   },
   "outputs": [],
   "source": [
    "#Train Validation set\n",
    "from sklearn.linear_model import LogisticRegressionCV\n",
    "\n",
    "log = LogisticRegressionCV(cv = 5)\n",
    "\n",
    "log.fit(X_train,Y_train)\n",
    "y_log = log.predict_proba(X_test)"
   ]
  },
  {
   "cell_type": "code",
   "execution_count": 35,
   "metadata": {
    "collapsed": false,
    "scrolled": true
   },
   "outputs": [
    {
     "data": {
      "text/plain": [
       "<bound method LogisticRegressionCV.get_params of LogisticRegressionCV(Cs=10, class_weight=None, cv=5, dual=False,\n",
       "           fit_intercept=True, intercept_scaling=1.0, max_iter=100,\n",
       "           multi_class='ovr', n_jobs=1, penalty='l2', random_state=None,\n",
       "           refit=True, scoring=None, solver='lbfgs', tol=0.0001, verbose=0)>"
      ]
     },
     "execution_count": 35,
     "metadata": {},
     "output_type": "execute_result"
    }
   ],
   "source": [
    "log.get_params"
   ]
  },
  {
   "cell_type": "code",
   "execution_count": 74,
   "metadata": {
    "collapsed": false
   },
   "outputs": [
    {
     "data": {
      "image/png": "[encoded data removed]",
      "text/plain": [
       "<matplotlib.figure.Figure at 0x7feec34d9050>"
      ]
     },
     "metadata": {},
     "output_type": "display_data"
    }
   ],
   "source": [
    "confmat = metrics.confusion_matrix(log.predict(X_test),Y_test)\n",
    "fig, ax = plt.subplots(figsize=(2.5, 2.5))\n",
    "ax.matshow(confmat, cmap=plt.cm.Blues, alpha=0.3)\n",
    "for i in range(confmat.shape[0]):\n",
    "    for j in range(confmat.shape[1]):\n",
    "        ax.text(x=j, y=i, s=confmat[i, j], va='center', ha='center')\n",
    "\n",
    "plt.xlabel('predicted label')\n",
    "plt.ylabel('true label')\n",
    "\n",
    "plt.tight_layout()"
   ]
  },
  {
   "cell_type": "code",
   "execution_count": 76,
   "metadata": {
    "collapsed": false
   },
   "outputs": [
    {
     "name": "stdout",
     "output_type": "stream",
     "text": [
      "             precision    recall  f1-score   support\n",
      "\n",
      "          0       0.99      0.73      0.84     31458\n",
      "          1       0.04      0.56      0.07       554\n",
      "\n",
      "avg / total       0.97      0.73      0.83     32012\n",
      "\n"
     ]
    }
   ],
   "source": [
    "print metrics.classification_report(log.predict(X_test),Y_test)"
   ]
  },
  {
   "cell_type": "code",
   "execution_count": 90,
   "metadata": {
    "collapsed": false
   },
   "outputs": [
    {
     "name": "stdout",
     "output_type": "stream",
     "text": [
      "0.647301725778\n"
     ]
    }
   ],
   "source": [
    "results['LogisiticRegression'] = metrics.roc_auc_score(log.predict(X_test),Y_test)\n",
    "print metrics.roc_auc_score(log.predict(X_test),Y_test)"
   ]
  },
  {
   "cell_type": "code",
   "execution_count": 37,
   "metadata": {
    "collapsed": false,
    "scrolled": false
   },
   "outputs": [],
   "source": [
    "#create repeat probability list\n",
    "y_prob = []\n",
    "for n in y_pred_log:\n",
    "    \n",
    "    y_prob.append(n[1])"
   ]
  },
  {
   "cell_type": "markdown",
   "metadata": {
    "collapsed": true
   },
   "source": [
    "### Random Forest"
   ]
  },
  {
   "cell_type": "code",
   "execution_count": null,
   "metadata": {
    "collapsed": false
   },
   "outputs": [],
   "source": [
    "from sklearn.ensemble import RandomForestClassifier\n",
    "from sklearn.grid_search import GridSearchCV\n",
    "\n",
    "forest = RandomForestClassifier()\n",
    "\n",
    "param_grid = {\"max_depth\": [3, None],\n",
    "              \"max_features\": ['auto', 'sqrt', 'log2'],\n",
    "              \"min_samples_split\": [1, 3, 10],\n",
    "              \"min_samples_leaf\": [1, 3, 10],\n",
    "              \"bootstrap\": [True, False],\n",
    "              \"criterion\": [\"gini\", \"entropy\"],\n",
    "             \"n_estimators\" : [50,100,150]}\n",
    "\n",
    "gs = GridSearchCV(estimator=forest,param_grid=param_grid, cv=3,n_jobs=-1)\n",
    "\n",
    "gs.fit(train_X,train_Y)"
   ]
  },
  {
   "cell_type": "code",
   "execution_count": null,
   "metadata": {
    "collapsed": true
   },
   "outputs": [],
   "source": [
    "gs.best_params_\n",
    "\n",
    "y_pred_forest = gs.predict_proba(test_X)"
   ]
  },
  {
   "cell_type": "code",
   "execution_count": 40,
   "metadata": {
    "collapsed": false
   },
   "outputs": [
    {
     "data": {
      "text/plain": [
       "0.99998750445153917"
      ]
     },
     "execution_count": 40,
     "metadata": {},
     "output_type": "execute_result"
    }
   ],
   "source": [
    "forest.score(train_X,train_Y)"
   ]
  },
  {
   "cell_type": "code",
   "execution_count": 173,
   "metadata": {
    "collapsed": true
   },
   "outputs": [],
   "source": [
    "#create repeat probability list\n",
    "y_prob = []\n",
    "for n in y_pred_forest:\n",
    "    \n",
    "    y_prob.append(n[1])"
   ]
  },
  {
   "cell_type": "code",
   "execution_count": null,
   "metadata": {
    "collapsed": true
   },
   "outputs": [],
   "source": []
  },
  {
   "cell_type": "code",
   "execution_count": null,
   "metadata": {
    "collapsed": true
   },
   "outputs": [],
   "source": []
  },
  {
   "cell_type": "markdown",
   "metadata": {},
   "source": [
    "### Extra Trees Classfier"
   ]
  },
  {
   "cell_type": "code",
   "execution_count": 85,
   "metadata": {
    "collapsed": false
   },
   "outputs": [],
   "source": [
    "# Train on full set\n",
    "from sklearn.ensemble import ExtraTreesClassifier\n",
    "\n",
    "extratrees = ExtraTreesClassifier(n_estimators=1000, n_jobs=-1)\n",
    "\n",
    "extratrees.fit(train_X,train_Y)\n",
    "\n",
    "y_pred_extra = extratrees.predict_proba(test_X)"
   ]
  },
  {
   "cell_type": "code",
   "execution_count": 89,
   "metadata": {
    "collapsed": false
   },
   "outputs": [],
   "source": [
    "#Train on Validation Set\n",
    "from sklearn.ensemble import ExtraTreesClassifier\n",
    "\n",
    "extratrees = ExtraTreesClassifier(n_estimators=1000, n_jobs=-1)\n",
    "\n",
    "extratrees.fit(X_train,Y_train)\n",
    "\n",
    "y_extra = extratrees.predict_proba(X_test)"
   ]
  },
  {
   "cell_type": "code",
   "execution_count": 97,
   "metadata": {
    "collapsed": false
   },
   "outputs": [
    {
     "data": {
      "image/png": "[encoded data removed]",
      "text/plain": [
       "<matplotlib.figure.Figure at 0x7feec4cf04d0>"
      ]
     },
     "metadata": {},
     "output_type": "display_data"
    }
   ],
   "source": [
    "confmat = metrics.confusion_matrix(extratrees.predict(X_test),Y_test)\n",
    "fig, ax = plt.subplots(figsize=(2.5, 2.5))\n",
    "ax.matshow(confmat, cmap=plt.cm.Blues, alpha=0.3)\n",
    "for i in range(confmat.shape[0]):\n",
    "    for j in range(confmat.shape[1]):\n",
    "        ax.text(x=j, y=i, s=confmat[i, j], va='center', ha='center')\n",
    "\n",
    "plt.xlabel('predicted label')\n",
    "plt.ylabel('true label')\n",
    "\n",
    "plt.tight_layout()"
   ]
  },
  {
   "cell_type": "code",
   "execution_count": 92,
   "metadata": {
    "collapsed": false
   },
   "outputs": [
    {
     "name": "stdout",
     "output_type": "stream",
     "text": [
      "0.68117778676\n"
     ]
    }
   ],
   "source": [
    "results['ExtraTreesClassifier'] = metrics.roc_auc_score(extratrees.predict(X_test),Y_test)\n",
    "print metrics.roc_auc_score(extratrees.predict(X_test),Y_test)"
   ]
  },
  {
   "cell_type": "code",
   "execution_count": 86,
   "metadata": {
    "collapsed": true
   },
   "outputs": [],
   "source": [
    "#create repeat probability list\n",
    "y_prob = []\n",
    "for n in y_pred_extra:\n",
    "    \n",
    "    y_prob.append(n[1])"
   ]
  },
  {
   "cell_type": "code",
   "execution_count": null,
   "metadata": {
    "collapsed": true
   },
   "outputs": [],
   "source": []
  },
  {
   "cell_type": "code",
   "execution_count": null,
   "metadata": {
    "collapsed": true
   },
   "outputs": [],
   "source": []
  },
  {
   "cell_type": "markdown",
   "metadata": {},
   "source": [
    "### XGBoost Classifier"
   ]
  },
  {
   "cell_type": "code",
   "execution_count": 186,
   "metadata": {
    "collapsed": true
   },
   "outputs": [],
   "source": [
    "xgb.XGBClassifier?"
   ]
  },
  {
   "cell_type": "code",
   "execution_count": null,
   "metadata": {
    "collapsed": true
   },
   "outputs": [],
   "source": [
    "import xgboost as xgb\n",
    "clf = xgb.XGBoostClassifier(\n",
    "        eval_metric = 'auc',\n",
    "        num_class = 2,\n",
    "        nthread = -1,\n",
    "        silent = 1,\n",
    "        )\n",
    "param_grid = {'num_boost_round': [100, 300, 500],\n",
    "        'eta': [0.05, 0.1, 0.3],\n",
    "        'max_depth': [3,6, 9, 12],\n",
    "        'subsample': [0.7,0.8,0.9, 1.0],\n",
    "        'colsample_bytree': [0.7,0.8,0.9, 1.0],\n",
    "          }\n",
    "xgbcv = GridSearchCV(clf, parameters, n_jobs=-1, cv=5)\n",
    "    \n",
    "xgbcv.fit(train_X,train_Y)"
   ]
  },
  {
   "cell_type": "code",
   "execution_count": null,
   "metadata": {
    "collapsed": true
   },
   "outputs": [],
   "source": []
  },
  {
   "cell_type": "code",
   "execution_count": null,
   "metadata": {
    "collapsed": true
   },
   "outputs": [],
   "source": [
    "best_parameters, score, _ = max(clf.grid_scores_, key=lambda x: x[1])\n",
    "    print('score:', score)\n",
    "    for param_name in sorted(best_parameters.keys()):\n",
    "        print(\"%s: %r\" % (param_name, best_parameters[param_name]))\n",
    "    print('predicted:', clf.predict([[1,1]]))"
   ]
  },
  {
   "cell_type": "code",
   "execution_count": 93,
   "metadata": {
    "collapsed": false
   },
   "outputs": [],
   "source": [
    "# Train on fullset\n",
    "import xgboost as xgb\n",
    "clf = xgb.XGBClassifier(n_estimators=300,\n",
    "                        nthread=-1,\n",
    "                        max_depth=3,\n",
    "                        learning_rate=0.1,\n",
    "                        silent=True,\n",
    "                        subsample=0.8,\n",
    "                        colsample_bytree=0.8)\n",
    "                        \n",
    "xgb_model = clf.fit(train_X,train_Y)\n",
    "predict_xgb = xgb_model.predict_proba(test_X)"
   ]
  },
  {
   "cell_type": "code",
   "execution_count": 108,
   "metadata": {
    "collapsed": true
   },
   "outputs": [],
   "source": [
    "# Train on validation set\n",
    "import xgboost as xgb\n",
    "clf = xgb.XGBClassifier(n_estimators=300,\n",
    "                        nthread=-1,\n",
    "                        max_depth=3,\n",
    "                        learning_rate=0.1,\n",
    "                        silent=True,\n",
    "                        subsample=0.8,\n",
    "                        colsample_bytree=0.8)\n",
    "                        \n",
    "xgb_model = clf.fit(X_train,Y_train)\n",
    "Y_xgb = xgb_model.predict_proba(X_test)"
   ]
  },
  {
   "cell_type": "code",
   "execution_count": 110,
   "metadata": {
    "collapsed": false
   },
   "outputs": [
    {
     "name": "stdout",
     "output_type": "stream",
     "text": [
      "0.709702237806\n"
     ]
    }
   ],
   "source": [
    "results['XGboost'] = metrics.roc_auc_score(xgb_model.predict(X_test),Y_test)\n",
    "print metrics.roc_auc_score(xgb_model.predict(X_test),Y_test)"
   ]
  },
  {
   "cell_type": "code",
   "execution_count": 102,
   "metadata": {
    "collapsed": false
   },
   "outputs": [
    {
     "data": {
      "text/plain": [
       "<matplotlib.axes._subplots.AxesSubplot at 0x7feec67d3a50>"
      ]
     },
     "execution_count": 102,
     "metadata": {},
     "output_type": "execute_result"
    },
    {
     "data": {
      "image/png": "[encoded data removed]",
      "text/plain": [
       "<matplotlib.figure.Figure at 0x7feec6e00b10>"
      ]
     },
     "metadata": {},
     "output_type": "display_data"
    }
   ],
   "source": [
    "xgb.plot_importance(xgb_model)"
   ]
  },
  {
   "cell_type": "code",
   "execution_count": null,
   "metadata": {
    "collapsed": true
   },
   "outputs": [],
   "source": []
  },
  {
   "cell_type": "code",
   "execution_count": null,
   "metadata": {
    "collapsed": true
   },
   "outputs": [],
   "source": []
  },
  {
   "cell_type": "code",
   "execution_count": 199,
   "metadata": {
    "collapsed": false
   },
   "outputs": [
    {
     "data": {
      "text/plain": [
       "0.76224095166097083"
      ]
     },
     "execution_count": 199,
     "metadata": {},
     "output_type": "execute_result"
    }
   ],
   "source": [
    "xgb_model.score(train_X,train_Y)"
   ]
  },
  {
   "cell_type": "code",
   "execution_count": 94,
   "metadata": {
    "collapsed": true
   },
   "outputs": [],
   "source": [
    "#create repeat probability list\n",
    "y_prob = []\n",
    "for n in predict_xgb:\n",
    "    \n",
    "    y_prob.append(n[1])"
   ]
  },
  {
   "cell_type": "code",
   "execution_count": null,
   "metadata": {
    "collapsed": true
   },
   "outputs": [],
   "source": []
  },
  {
   "cell_type": "code",
   "execution_count": null,
   "metadata": {
    "collapsed": true
   },
   "outputs": [],
   "source": [
    "### Ensemble Voting Classifier"
   ]
  },
  {
   "cell_type": "code",
   "execution_count": null,
   "metadata": {
    "collapsed": true
   },
   "outputs": [],
   "source": [
    "from sklearn.ensemble import VotingClassifier\n",
    "\n",
    "iris = datasets.load_iris()\n",
    "X, y = iris.data[:, 1:3], iris.target\n",
    "\n",
    "clf1 = LogisticRegression(random_state=1)\n",
    "clf2 = RandomForestClassifier(random_state=1)\n",
    "clf3 = GaussianNB()\n",
    "\n",
    "eclf = VotingClassifier(estimators=[('lr', clf1), ('rf', clf2), ('gnb', clf3)], voting='hard')\n",
    "\n",
    "for clf, label in zip([clf1, clf2, clf3, eclf], ['Logistic Regression', 'Random Forest', 'naive Bayes', 'Ensemble']):\n",
    "    scores = cross_validation.cross_val_score(clf, X, y, cv=5, scoring='accuracy')\n",
    "    print(\"Accuracy: %0.2f (+/- %0.2f) [%s]\" % (scores.mean(), scores.std(), label))"
   ]
  },
  {
   "cell_type": "code",
   "execution_count": null,
   "metadata": {
    "collapsed": true
   },
   "outputs": [],
   "source": []
  },
  {
   "cell_type": "markdown",
   "metadata": {},
   "source": [
    "## Create Submission File"
   ]
  },
  {
   "cell_type": "code",
   "execution_count": 95,
   "metadata": {
    "collapsed": false
   },
   "outputs": [],
   "source": [
    "submit = pd.DataFrame({'id' : ids, 'repeatProbability' : y_prob}).set_index('id')\n",
    "submit.to_csv(\"submission.csv\")"
   ]
  },
  {
   "cell_type": "code",
   "execution_count": null,
   "metadata": {
    "collapsed": true
   },
   "outputs": [],
   "source": []
  }
 ],
 "metadata": {
  "kernelspec": {
   "display_name": "Python 2",
   "language": "python",
   "name": "python2"
  },
  "language_info": {
   "codemirror_mode": {
    "name": "ipython",
    "version": 2
   },
   "file_extension": ".py",
   "mimetype": "text/x-python",
   "name": "python",
   "nbconvert_exporter": "python",
   "pygments_lexer": "ipython2",
   "version": "2.7.11"
  }
 },
 "nbformat": 4,
 "nbformat_minor": 0
}
