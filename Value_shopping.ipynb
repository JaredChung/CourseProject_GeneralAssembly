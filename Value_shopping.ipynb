{
 "cells": [
  {
   "cell_type": "markdown",
   "metadata": {
    "collapsed": true
   },
   "source": [
    "# Predicting Repeat Buyers"
   ]
  },
  {
   "cell_type": "code",
   "execution_count": 37,
   "metadata": {
    "collapsed": false
   },
   "outputs": [],
   "source": [
    "import pandas as pd\n",
    "import numpy as np\n",
    "import matplotlib.pyplot as plt\n",
    "import xgboost as xgb\n",
    "from sklearn.preprocessing import LabelEncoder\n",
    "from sklearn import metrics\n",
    "\n",
    "%matplotlib inline"
   ]
  },
  {
   "cell_type": "code",
   "execution_count": 59,
   "metadata": {
    "collapsed": false
   },
   "outputs": [],
   "source": [
    "train = pd.read_csv(\"trainHistory.csv\", parse_dates =['offerdate'])\n",
    "test= pd.read_csv(\"testHistory.csv\",parse_dates =['offerdate'])\n",
    "offer = pd.read_csv(\"offers.csv\")"
   ]
  },
  {
   "cell_type": "code",
   "execution_count": 60,
   "metadata": {
    "collapsed": false
   },
   "outputs": [],
   "source": [
    "# Data Reduction Script used from Triskelion \n",
    "transactions = pd.read_csv(\"../transactions/reduced2.csv\",parse_dates =['date'])"
   ]
  },
  {
   "cell_type": "markdown",
   "metadata": {},
   "source": [
    "## Preprocessing Data"
   ]
  },
  {
   "cell_type": "code",
   "execution_count": 61,
   "metadata": {
    "collapsed": true
   },
   "outputs": [],
   "source": [
    "#Merge train and test set with offer and create additional date features\n",
    "def preprocessing(x):\n",
    "    \n",
    "    x = pd.merge(x,offer,left_on='offer',right_on='offer',how='left')\n",
    "    \n",
    "    x['year'] = x.offerdate.apply(lambda n: n.year)\n",
    "    x['month'] = x.offerdate.apply(lambda n: n.month)\n",
    "    x['week'] = x.offerdate.apply(lambda n: n.week)\n",
    "    x['dayofweek'] = x.offerdate.apply(lambda n: n.dayofweek)\n",
    "    return x"
   ]
  },
  {
   "cell_type": "code",
   "execution_count": 62,
   "metadata": {
    "collapsed": true
   },
   "outputs": [],
   "source": [
    "test = preprocessing(test)\n",
    "train = preprocessing(train)"
   ]
  },
  {
   "cell_type": "code",
   "execution_count": 67,
   "metadata": {
    "collapsed": false
   },
   "outputs": [
    {
     "name": "stdout",
     "output_type": "stream",
     "text": [
      "<class 'pandas.core.frame.DataFrame'>\n",
      "Int64Index: 160057 entries, 0 to 160056\n",
      "Data columns (total 2 columns):\n",
      "id           160057 non-null int64\n",
      "offerdate    160057 non-null datetime64[ns]\n",
      "dtypes: datetime64[ns](1), int64(1)\n",
      "memory usage: 3.7 MB\n"
     ]
    }
   ],
   "source": [
    "x = train[['id','offerdate']]\n",
    "x.info()"
   ]
  },
  {
   "cell_type": "code",
   "execution_count": 68,
   "metadata": {
    "collapsed": false
   },
   "outputs": [
    {
     "name": "stdout",
     "output_type": "stream",
     "text": [
      "<class 'pandas.core.frame.DataFrame'>\n",
      "Int64Index: 151484 entries, 0 to 151483\n",
      "Data columns (total 2 columns):\n",
      "id           151484 non-null int64\n",
      "offerdate    151484 non-null datetime64[ns]\n",
      "dtypes: datetime64[ns](1), int64(1)\n",
      "memory usage: 3.5 MB\n"
     ]
    }
   ],
   "source": [
    "y = test[['id','offerdate']]\n",
    "y.info()"
   ]
  },
  {
   "cell_type": "code",
   "execution_count": 69,
   "metadata": {
    "collapsed": false
   },
   "outputs": [
    {
     "ename": "TypeError",
     "evalue": "first argument must be an iterable of pandas objects, you passed an object of type \"DataFrame\"",
     "output_type": "error",
     "traceback": [
      "\u001b[1;31m---------------------------------------------------------------------------\u001b[0m",
      "\u001b[1;31mTypeError\u001b[0m                                 Traceback (most recent call last)",
      "\u001b[1;32m<ipython-input-69-a48a452af0df>\u001b[0m in \u001b[0;36m<module>\u001b[1;34m()\u001b[0m\n\u001b[1;32m----> 1\u001b[1;33m \u001b[0mz\u001b[0m \u001b[1;33m=\u001b[0m \u001b[0mpd\u001b[0m\u001b[1;33m.\u001b[0m\u001b[0mconcat\u001b[0m\u001b[1;33m(\u001b[0m\u001b[0mx\u001b[0m\u001b[1;33m,\u001b[0m\u001b[0my\u001b[0m\u001b[1;33m)\u001b[0m\u001b[1;33m\u001b[0m\u001b[0m\n\u001b[0m\u001b[0;32m      2\u001b[0m \u001b[0mz\u001b[0m\u001b[1;33m.\u001b[0m\u001b[0minfo\u001b[0m\u001b[1;33m(\u001b[0m\u001b[1;33m)\u001b[0m\u001b[1;33m\u001b[0m\u001b[0m\n",
      "\u001b[1;32m/home/ubuntu/anaconda2/lib/python2.7/site-packages/pandas/tools/merge.pyc\u001b[0m in \u001b[0;36mconcat\u001b[1;34m(objs, axis, join, join_axes, ignore_index, keys, levels, names, verify_integrity, copy)\u001b[0m\n\u001b[0;32m    810\u001b[0m                        \u001b[0mkeys\u001b[0m\u001b[1;33m=\u001b[0m\u001b[0mkeys\u001b[0m\u001b[1;33m,\u001b[0m \u001b[0mlevels\u001b[0m\u001b[1;33m=\u001b[0m\u001b[0mlevels\u001b[0m\u001b[1;33m,\u001b[0m \u001b[0mnames\u001b[0m\u001b[1;33m=\u001b[0m\u001b[0mnames\u001b[0m\u001b[1;33m,\u001b[0m\u001b[1;33m\u001b[0m\u001b[0m\n\u001b[0;32m    811\u001b[0m                        \u001b[0mverify_integrity\u001b[0m\u001b[1;33m=\u001b[0m\u001b[0mverify_integrity\u001b[0m\u001b[1;33m,\u001b[0m\u001b[1;33m\u001b[0m\u001b[0m\n\u001b[1;32m--> 812\u001b[1;33m                        copy=copy)\n\u001b[0m\u001b[0;32m    813\u001b[0m     \u001b[1;32mreturn\u001b[0m \u001b[0mop\u001b[0m\u001b[1;33m.\u001b[0m\u001b[0mget_result\u001b[0m\u001b[1;33m(\u001b[0m\u001b[1;33m)\u001b[0m\u001b[1;33m\u001b[0m\u001b[0m\n\u001b[0;32m    814\u001b[0m \u001b[1;33m\u001b[0m\u001b[0m\n",
      "\u001b[1;32m/home/ubuntu/anaconda2/lib/python2.7/site-packages/pandas/tools/merge.pyc\u001b[0m in \u001b[0;36m__init__\u001b[1;34m(self, objs, axis, join, join_axes, keys, levels, names, ignore_index, verify_integrity, copy)\u001b[0m\n\u001b[0;32m    825\u001b[0m             raise TypeError('first argument must be an iterable of pandas '\n\u001b[0;32m    826\u001b[0m                             \u001b[1;34m'objects, you passed an object of type '\u001b[0m\u001b[1;33m\u001b[0m\u001b[0m\n\u001b[1;32m--> 827\u001b[1;33m                             '\"{0}\"'.format(type(objs).__name__))\n\u001b[0m\u001b[0;32m    828\u001b[0m \u001b[1;33m\u001b[0m\u001b[0m\n\u001b[0;32m    829\u001b[0m         \u001b[1;32mif\u001b[0m \u001b[0mjoin\u001b[0m \u001b[1;33m==\u001b[0m \u001b[1;34m'outer'\u001b[0m\u001b[1;33m:\u001b[0m\u001b[1;33m\u001b[0m\u001b[0m\n",
      "\u001b[1;31mTypeError\u001b[0m: first argument must be an iterable of pandas objects, you passed an object of type \"DataFrame\""
     ]
    }
   ],
   "source": [
    "z = pd.concat(x,y)\n",
    "z.info()"
   ]
  },
  {
   "cell_type": "code",
   "execution_count": 42,
   "metadata": {
    "collapsed": false,
    "scrolled": true
   },
   "outputs": [],
   "source": [
    "x = train[['id','offerdate']]\n",
    "transactions = pd.merge(transactions,x,left_on='id',right_on='id',how='left')\n",
    "transactions['date_difference'] = transactions.offerdate - transactions.date"
   ]
  },
  {
   "cell_type": "code",
   "execution_count": 57,
   "metadata": {
    "collapsed": false
   },
   "outputs": [],
   "source": [
    "y = test[['id','offerdate']]\n",
    "y.columns = ['id','offerdatetest']\n",
    "transactions = pd.merge(transactions,y,left_on='id',right_on='id',how='left')\n",
    "transactions['date_differencetest'] = transactions.offerdatetest - transactions.date"
   ]
  },
  {
   "cell_type": "code",
   "execution_count": 58,
   "metadata": {
    "collapsed": false,
    "scrolled": true
   },
   "outputs": [
    {
     "data": {
      "text/html": [
       "<div>\n",
       "<table border=\"1\" class=\"dataframe\">\n",
       "  <thead>\n",
       "    <tr style=\"text-align: right;\">\n",
       "      <th></th>\n",
       "      <th>id</th>\n",
       "      <th>chain</th>\n",
       "      <th>dept</th>\n",
       "      <th>category</th>\n",
       "      <th>company</th>\n",
       "      <th>brand</th>\n",
       "      <th>date</th>\n",
       "      <th>productsize</th>\n",
       "      <th>productmeasure</th>\n",
       "      <th>purchasequantity</th>\n",
       "      <th>purchaseamount</th>\n",
       "      <th>offerdate</th>\n",
       "      <th>date_difference</th>\n",
       "      <th>offerdatetest</th>\n",
       "      <th>date_differencetest</th>\n",
       "    </tr>\n",
       "  </thead>\n",
       "  <tbody>\n",
       "    <tr>\n",
       "      <th>0</th>\n",
       "      <td>86246</td>\n",
       "      <td>205</td>\n",
       "      <td>99</td>\n",
       "      <td>9909</td>\n",
       "      <td>104538848</td>\n",
       "      <td>15343</td>\n",
       "      <td>2012-03-02</td>\n",
       "      <td>16</td>\n",
       "      <td>OZ</td>\n",
       "      <td>1</td>\n",
       "      <td>2.49</td>\n",
       "      <td>2013-04-24</td>\n",
       "      <td>418 days</td>\n",
       "      <td>NaT</td>\n",
       "      <td>NaT</td>\n",
       "    </tr>\n",
       "    <tr>\n",
       "      <th>1</th>\n",
       "      <td>86246</td>\n",
       "      <td>205</td>\n",
       "      <td>21</td>\n",
       "      <td>2106</td>\n",
       "      <td>105100050</td>\n",
       "      <td>27873</td>\n",
       "      <td>2012-03-02</td>\n",
       "      <td>64</td>\n",
       "      <td>OZ</td>\n",
       "      <td>1</td>\n",
       "      <td>3.29</td>\n",
       "      <td>2013-04-24</td>\n",
       "      <td>418 days</td>\n",
       "      <td>NaT</td>\n",
       "      <td>NaT</td>\n",
       "    </tr>\n",
       "    <tr>\n",
       "      <th>2</th>\n",
       "      <td>86246</td>\n",
       "      <td>205</td>\n",
       "      <td>26</td>\n",
       "      <td>2630</td>\n",
       "      <td>103700030</td>\n",
       "      <td>14647</td>\n",
       "      <td>2012-03-02</td>\n",
       "      <td>56</td>\n",
       "      <td>CT</td>\n",
       "      <td>1</td>\n",
       "      <td>1.00</td>\n",
       "      <td>2013-04-24</td>\n",
       "      <td>418 days</td>\n",
       "      <td>NaT</td>\n",
       "      <td>NaT</td>\n",
       "    </tr>\n",
       "    <tr>\n",
       "      <th>3</th>\n",
       "      <td>86246</td>\n",
       "      <td>205</td>\n",
       "      <td>58</td>\n",
       "      <td>5824</td>\n",
       "      <td>108674585</td>\n",
       "      <td>55172</td>\n",
       "      <td>2012-03-02</td>\n",
       "      <td>16</td>\n",
       "      <td>OZ</td>\n",
       "      <td>1</td>\n",
       "      <td>3.29</td>\n",
       "      <td>2013-04-24</td>\n",
       "      <td>418 days</td>\n",
       "      <td>NaT</td>\n",
       "      <td>NaT</td>\n",
       "    </tr>\n",
       "    <tr>\n",
       "      <th>4</th>\n",
       "      <td>86246</td>\n",
       "      <td>205</td>\n",
       "      <td>26</td>\n",
       "      <td>2634</td>\n",
       "      <td>103700030</td>\n",
       "      <td>3293</td>\n",
       "      <td>2012-03-06</td>\n",
       "      <td>6</td>\n",
       "      <td>RL</td>\n",
       "      <td>1</td>\n",
       "      <td>4.99</td>\n",
       "      <td>2013-04-24</td>\n",
       "      <td>414 days</td>\n",
       "      <td>NaT</td>\n",
       "      <td>NaT</td>\n",
       "    </tr>\n",
       "  </tbody>\n",
       "</table>\n",
       "</div>"
      ],
      "text/plain": [
       "      id  chain  dept  category    company  brand       date  productsize  \\\n",
       "0  86246    205    99      9909  104538848  15343 2012-03-02           16   \n",
       "1  86246    205    21      2106  105100050  27873 2012-03-02           64   \n",
       "2  86246    205    26      2630  103700030  14647 2012-03-02           56   \n",
       "3  86246    205    58      5824  108674585  55172 2012-03-02           16   \n",
       "4  86246    205    26      2634  103700030   3293 2012-03-06            6   \n",
       "\n",
       "  productmeasure  purchasequantity  purchaseamount  offerdate  \\\n",
       "0             OZ                 1            2.49 2013-04-24   \n",
       "1             OZ                 1            3.29 2013-04-24   \n",
       "2             CT                 1            1.00 2013-04-24   \n",
       "3             OZ                 1            3.29 2013-04-24   \n",
       "4             RL                 1            4.99 2013-04-24   \n",
       "\n",
       "   date_difference offerdatetest  date_differencetest  \n",
       "0         418 days           NaT                  NaT  \n",
       "1         418 days           NaT                  NaT  \n",
       "2         418 days           NaT                  NaT  \n",
       "3         418 days           NaT                  NaT  \n",
       "4         414 days           NaT                  NaT  "
      ]
     },
     "execution_count": 58,
     "metadata": {},
     "output_type": "execute_result"
    }
   ],
   "source": [
    "transactions.head()"
   ]
  },
  {
   "cell_type": "code",
   "execution_count": 44,
   "metadata": {
    "collapsed": false,
    "scrolled": false
   },
   "outputs": [],
   "source": [
    "#How many times bought from a Category, Company, brand and chain\n",
    "for n in ['category','company','brand','chain']:\n",
    "    x = transactions.groupby(['id',n]).size()\n",
    "    x = pd.DataFrame(x).reset_index()\n",
    "    x.columns = ['id', n, n+'_frequency_bought']\n",
    "    train = pd.merge(train,x,left_on=['id',n],right_on=['id',n],how='left')\n",
    "    test = pd.merge(test,x,left_on=['id',n],right_on=['id',n],how='left')"
   ]
  },
  {
   "cell_type": "code",
   "execution_count": 45,
   "metadata": {
    "collapsed": false
   },
   "outputs": [],
   "source": [
    "#How much quantity from a Category, Company, brand and chain\n",
    "for n in ['category','company','brand','chain']:\n",
    "    x = transactions.groupby(['id',n]).purchasequantity.sum()\n",
    "    x = pd.DataFrame(x).reset_index()\n",
    "    x.columns = ['id', n, n+'_quantity_bought']\n",
    "    train = pd.merge(train,x,left_on=['id',n],right_on=['id',n],how='left')\n",
    "    test = pd.merge(test,x,left_on=['id',n],right_on=['id',n],how='left')"
   ]
  },
  {
   "cell_type": "code",
   "execution_count": 46,
   "metadata": {
    "collapsed": false
   },
   "outputs": [],
   "source": [
    "#Total Dollar Value bought from category, company,brand and chain\n",
    "for n in ['category','company','brand','chain']:\n",
    "    x = transactions.groupby(['id',n]).purchaseamount.sum()\n",
    "    x = pd.DataFrame(x).reset_index()\n",
    "    x.columns = ['id',n,n + '_dollars_spent']\n",
    "    train = pd.merge(train,x,left_on=['id',n],right_on=['id',n],how='left')\n",
    "    test = pd.merge(test,x,left_on=['id',n],right_on=['id',n],how='left')"
   ]
  },
  {
   "cell_type": "code",
   "execution_count": 47,
   "metadata": {
    "collapsed": false
   },
   "outputs": [],
   "source": [
    "# Number of purchases from combined category + company + brand + chain\n",
    "x = transactions.groupby(['id','category','company','brand','chain']).size()\n",
    "x = pd.DataFrame(x).reset_index()\n",
    "x.columns = ['id','category','company','brand','chain', 'All_quantity_bought']\n",
    "train = pd.merge(train,x,left_on=['id','category','company','brand','chain'],right_on=['id','category','company','brand','chain'],how='left')\n",
    "test = pd.merge(test,x,left_on=['id','category','company','brand','chain'],right_on=['id','category','company','brand','chain'],how='left')"
   ]
  },
  {
   "cell_type": "code",
   "execution_count": 48,
   "metadata": {
    "collapsed": false
   },
   "outputs": [],
   "source": [
    "# Dollar Amount from combined category + company + brand + chain\n",
    "x = transactions.groupby(['id','category','company','brand','chain']).purchaseamount.sum()\n",
    "x = pd.DataFrame(x).reset_index()\n",
    "x.columns = ['id','category','company','brand','chain', 'All_dollar_spent']\n",
    "train = pd.merge(train,x,left_on=['id','category','company','brand','chain'],right_on=['id','category','company','brand','chain'],how='left')\n",
    "test = pd.merge(test,x,left_on=['id','category','company','brand','chain'],right_on=['id','category','company','brand','chain'],how='left')"
   ]
  },
  {
   "cell_type": "code",
   "execution_count": 49,
   "metadata": {
    "collapsed": false
   },
   "outputs": [],
   "source": [
    "#Time Segements how frequency,quantity and amount purchased in last 30,60,90,180 days\n",
    "for n in ['category','company','brand','chain']:\n",
    "    \n",
    "    for z in ['30','60','90','180']:\n",
    "        \n",
    "        x = transactions[transactions.date_difference < z + ' days'].groupby(['id',n]).size()\n",
    "        x = pd.DataFrame(x).reset_index()\n",
    "        x.columns = ['id',n,n +'_frequency_bought_'+ z]\n",
    "        train = pd.merge(train,x,left_on=['id',n],right_on=['id',n],how='left')\n",
    "        test = pd.merge(test,x,left_on=['id',n],right_on=['id',n],how='left')\n",
    "        \n",
    "        x = transactions[transactions.date_difference < z + ' days'].groupby(['id',n]).agg({'purchasequantity': np.sum,'purchaseamount':np.sum})\n",
    "        x = pd.DataFrame(x).reset_index()\n",
    "        x.columns = ['id',n,n +'_dollars_spent_'+ z,n +'_quantity_bought_'+ z]\n",
    "        train = pd.merge(train,x,left_on=['id',n],right_on=['id',n],how='left')\n",
    "        test = pd.merge(test,x,left_on=['id',n],right_on=['id',n],how='left')"
   ]
  },
  {
   "cell_type": "code",
   "execution_count": 50,
   "metadata": {
    "collapsed": false,
    "scrolled": false
   },
   "outputs": [
    {
     "data": {
      "text/html": [
       "<div>\n",
       "<table border=\"1\" class=\"dataframe\">\n",
       "  <thead>\n",
       "    <tr style=\"text-align: right;\">\n",
       "      <th></th>\n",
       "      <th>id</th>\n",
       "      <th>chain</th>\n",
       "      <th>offer</th>\n",
       "      <th>market</th>\n",
       "      <th>repeattrips</th>\n",
       "      <th>repeater</th>\n",
       "      <th>offerdate</th>\n",
       "      <th>category</th>\n",
       "      <th>quantity</th>\n",
       "      <th>company</th>\n",
       "      <th>...</th>\n",
       "      <th>chain_quantity_bought_30</th>\n",
       "      <th>chain_frequency_bought_60</th>\n",
       "      <th>chain_dollars_spent_60</th>\n",
       "      <th>chain_quantity_bought_60</th>\n",
       "      <th>chain_frequency_bought_90</th>\n",
       "      <th>chain_dollars_spent_90</th>\n",
       "      <th>chain_quantity_bought_90</th>\n",
       "      <th>chain_frequency_bought_180</th>\n",
       "      <th>chain_dollars_spent_180</th>\n",
       "      <th>chain_quantity_bought_180</th>\n",
       "    </tr>\n",
       "  </thead>\n",
       "  <tbody>\n",
       "    <tr>\n",
       "      <th>0</th>\n",
       "      <td>86246</td>\n",
       "      <td>205</td>\n",
       "      <td>1208251</td>\n",
       "      <td>34</td>\n",
       "      <td>5</td>\n",
       "      <td>t</td>\n",
       "      <td>2013-04-24</td>\n",
       "      <td>2202</td>\n",
       "      <td>1</td>\n",
       "      <td>104460040</td>\n",
       "      <td>...</td>\n",
       "      <td>375</td>\n",
       "      <td>559</td>\n",
       "      <td>2320.14</td>\n",
       "      <td>775</td>\n",
       "      <td>584</td>\n",
       "      <td>2463.38</td>\n",
       "      <td>813</td>\n",
       "      <td>656</td>\n",
       "      <td>2787.22</td>\n",
       "      <td>899</td>\n",
       "    </tr>\n",
       "    <tr>\n",
       "      <th>1</th>\n",
       "      <td>86252</td>\n",
       "      <td>205</td>\n",
       "      <td>1197502</td>\n",
       "      <td>34</td>\n",
       "      <td>16</td>\n",
       "      <td>t</td>\n",
       "      <td>2013-03-27</td>\n",
       "      <td>3203</td>\n",
       "      <td>1</td>\n",
       "      <td>106414464</td>\n",
       "      <td>...</td>\n",
       "      <td>826</td>\n",
       "      <td>537</td>\n",
       "      <td>2629.46</td>\n",
       "      <td>859</td>\n",
       "      <td>564</td>\n",
       "      <td>2740.22</td>\n",
       "      <td>892</td>\n",
       "      <td>659</td>\n",
       "      <td>3189.14</td>\n",
       "      <td>1011</td>\n",
       "    </tr>\n",
       "    <tr>\n",
       "      <th>2</th>\n",
       "      <td>12682470</td>\n",
       "      <td>18</td>\n",
       "      <td>1197502</td>\n",
       "      <td>11</td>\n",
       "      <td>0</td>\n",
       "      <td>f</td>\n",
       "      <td>2013-03-28</td>\n",
       "      <td>3203</td>\n",
       "      <td>1</td>\n",
       "      <td>106414464</td>\n",
       "      <td>...</td>\n",
       "      <td>2</td>\n",
       "      <td>5</td>\n",
       "      <td>41.76</td>\n",
       "      <td>6</td>\n",
       "      <td>15</td>\n",
       "      <td>103.98</td>\n",
       "      <td>19</td>\n",
       "      <td>41</td>\n",
       "      <td>231.91</td>\n",
       "      <td>48</td>\n",
       "    </tr>\n",
       "    <tr>\n",
       "      <th>3</th>\n",
       "      <td>12996040</td>\n",
       "      <td>15</td>\n",
       "      <td>1197502</td>\n",
       "      <td>9</td>\n",
       "      <td>0</td>\n",
       "      <td>f</td>\n",
       "      <td>2013-03-25</td>\n",
       "      <td>3203</td>\n",
       "      <td>1</td>\n",
       "      <td>106414464</td>\n",
       "      <td>...</td>\n",
       "      <td>3</td>\n",
       "      <td>6</td>\n",
       "      <td>20.63</td>\n",
       "      <td>7</td>\n",
       "      <td>6</td>\n",
       "      <td>20.63</td>\n",
       "      <td>7</td>\n",
       "      <td>13</td>\n",
       "      <td>63.26</td>\n",
       "      <td>14</td>\n",
       "    </tr>\n",
       "    <tr>\n",
       "      <th>4</th>\n",
       "      <td>13089312</td>\n",
       "      <td>15</td>\n",
       "      <td>1204821</td>\n",
       "      <td>9</td>\n",
       "      <td>0</td>\n",
       "      <td>f</td>\n",
       "      <td>2013-04-01</td>\n",
       "      <td>5619</td>\n",
       "      <td>1</td>\n",
       "      <td>107717272</td>\n",
       "      <td>...</td>\n",
       "      <td>8</td>\n",
       "      <td>12</td>\n",
       "      <td>49.68</td>\n",
       "      <td>15</td>\n",
       "      <td>19</td>\n",
       "      <td>67.93</td>\n",
       "      <td>24</td>\n",
       "      <td>32</td>\n",
       "      <td>102.42</td>\n",
       "      <td>38</td>\n",
       "    </tr>\n",
       "  </tbody>\n",
       "</table>\n",
       "<p>5 rows × 78 columns</p>\n",
       "</div>"
      ],
      "text/plain": [
       "         id  chain    offer  market  repeattrips repeater  offerdate  \\\n",
       "0     86246    205  1208251      34            5        t 2013-04-24   \n",
       "1     86252    205  1197502      34           16        t 2013-03-27   \n",
       "2  12682470     18  1197502      11            0        f 2013-03-28   \n",
       "3  12996040     15  1197502       9            0        f 2013-03-25   \n",
       "4  13089312     15  1204821       9            0        f 2013-04-01   \n",
       "\n",
       "   category  quantity    company            ...              \\\n",
       "0      2202         1  104460040            ...               \n",
       "1      3203         1  106414464            ...               \n",
       "2      3203         1  106414464            ...               \n",
       "3      3203         1  106414464            ...               \n",
       "4      5619         1  107717272            ...               \n",
       "\n",
       "   chain_quantity_bought_30  chain_frequency_bought_60  \\\n",
       "0                       375                        559   \n",
       "1                       826                        537   \n",
       "2                         2                          5   \n",
       "3                         3                          6   \n",
       "4                         8                         12   \n",
       "\n",
       "   chain_dollars_spent_60  chain_quantity_bought_60  \\\n",
       "0                 2320.14                       775   \n",
       "1                 2629.46                       859   \n",
       "2                   41.76                         6   \n",
       "3                   20.63                         7   \n",
       "4                   49.68                        15   \n",
       "\n",
       "   chain_frequency_bought_90  chain_dollars_spent_90  \\\n",
       "0                        584                 2463.38   \n",
       "1                        564                 2740.22   \n",
       "2                         15                  103.98   \n",
       "3                          6                   20.63   \n",
       "4                         19                   67.93   \n",
       "\n",
       "   chain_quantity_bought_90  chain_frequency_bought_180  \\\n",
       "0                       813                         656   \n",
       "1                       892                         659   \n",
       "2                        19                          41   \n",
       "3                         7                          13   \n",
       "4                        24                          32   \n",
       "\n",
       "   chain_dollars_spent_180  chain_quantity_bought_180  \n",
       "0                  2787.22                        899  \n",
       "1                  3189.14                       1011  \n",
       "2                   231.91                         48  \n",
       "3                    63.26                         14  \n",
       "4                   102.42                         38  \n",
       "\n",
       "[5 rows x 78 columns]"
      ]
     },
     "execution_count": 50,
     "metadata": {},
     "output_type": "execute_result"
    }
   ],
   "source": [
    "train.head()"
   ]
  },
  {
   "cell_type": "code",
   "execution_count": 51,
   "metadata": {
    "collapsed": false
   },
   "outputs": [
    {
     "data": {
      "text/html": [
       "<div>\n",
       "<table border=\"1\" class=\"dataframe\">\n",
       "  <thead>\n",
       "    <tr style=\"text-align: right;\">\n",
       "      <th></th>\n",
       "      <th>id</th>\n",
       "      <th>chain</th>\n",
       "      <th>offer</th>\n",
       "      <th>market</th>\n",
       "      <th>offerdate</th>\n",
       "      <th>category</th>\n",
       "      <th>quantity</th>\n",
       "      <th>company</th>\n",
       "      <th>offervalue</th>\n",
       "      <th>brand</th>\n",
       "      <th>...</th>\n",
       "      <th>chain_quantity_bought_30</th>\n",
       "      <th>chain_frequency_bought_60</th>\n",
       "      <th>chain_dollars_spent_60</th>\n",
       "      <th>chain_quantity_bought_60</th>\n",
       "      <th>chain_frequency_bought_90</th>\n",
       "      <th>chain_dollars_spent_90</th>\n",
       "      <th>chain_quantity_bought_90</th>\n",
       "      <th>chain_frequency_bought_180</th>\n",
       "      <th>chain_dollars_spent_180</th>\n",
       "      <th>chain_quantity_bought_180</th>\n",
       "    </tr>\n",
       "  </thead>\n",
       "  <tbody>\n",
       "    <tr>\n",
       "      <th>0</th>\n",
       "      <td>12262064</td>\n",
       "      <td>95</td>\n",
       "      <td>1219903</td>\n",
       "      <td>39</td>\n",
       "      <td>2013-06-27</td>\n",
       "      <td>799</td>\n",
       "      <td>1</td>\n",
       "      <td>1076211171</td>\n",
       "      <td>1.5</td>\n",
       "      <td>17286</td>\n",
       "      <td>...</td>\n",
       "      <td>NaN</td>\n",
       "      <td>NaN</td>\n",
       "      <td>NaN</td>\n",
       "      <td>NaN</td>\n",
       "      <td>NaN</td>\n",
       "      <td>NaN</td>\n",
       "      <td>NaN</td>\n",
       "      <td>NaN</td>\n",
       "      <td>NaN</td>\n",
       "      <td>NaN</td>\n",
       "    </tr>\n",
       "    <tr>\n",
       "      <th>1</th>\n",
       "      <td>12277270</td>\n",
       "      <td>95</td>\n",
       "      <td>1221658</td>\n",
       "      <td>39</td>\n",
       "      <td>2013-06-23</td>\n",
       "      <td>7205</td>\n",
       "      <td>2</td>\n",
       "      <td>103700030</td>\n",
       "      <td>3.0</td>\n",
       "      <td>4294</td>\n",
       "      <td>...</td>\n",
       "      <td>NaN</td>\n",
       "      <td>NaN</td>\n",
       "      <td>NaN</td>\n",
       "      <td>NaN</td>\n",
       "      <td>NaN</td>\n",
       "      <td>NaN</td>\n",
       "      <td>NaN</td>\n",
       "      <td>NaN</td>\n",
       "      <td>NaN</td>\n",
       "      <td>NaN</td>\n",
       "    </tr>\n",
       "    <tr>\n",
       "      <th>2</th>\n",
       "      <td>12332190</td>\n",
       "      <td>95</td>\n",
       "      <td>1213242</td>\n",
       "      <td>39</td>\n",
       "      <td>2013-06-15</td>\n",
       "      <td>5824</td>\n",
       "      <td>1</td>\n",
       "      <td>105190050</td>\n",
       "      <td>2.0</td>\n",
       "      <td>26456</td>\n",
       "      <td>...</td>\n",
       "      <td>NaN</td>\n",
       "      <td>NaN</td>\n",
       "      <td>NaN</td>\n",
       "      <td>NaN</td>\n",
       "      <td>NaN</td>\n",
       "      <td>NaN</td>\n",
       "      <td>NaN</td>\n",
       "      <td>NaN</td>\n",
       "      <td>NaN</td>\n",
       "      <td>NaN</td>\n",
       "    </tr>\n",
       "    <tr>\n",
       "      <th>3</th>\n",
       "      <td>12524696</td>\n",
       "      <td>4</td>\n",
       "      <td>1221665</td>\n",
       "      <td>1</td>\n",
       "      <td>2013-06-20</td>\n",
       "      <td>7205</td>\n",
       "      <td>1</td>\n",
       "      <td>103700030</td>\n",
       "      <td>1.5</td>\n",
       "      <td>4294</td>\n",
       "      <td>...</td>\n",
       "      <td>NaN</td>\n",
       "      <td>NaN</td>\n",
       "      <td>NaN</td>\n",
       "      <td>NaN</td>\n",
       "      <td>NaN</td>\n",
       "      <td>NaN</td>\n",
       "      <td>NaN</td>\n",
       "      <td>NaN</td>\n",
       "      <td>NaN</td>\n",
       "      <td>NaN</td>\n",
       "    </tr>\n",
       "    <tr>\n",
       "      <th>4</th>\n",
       "      <td>13074629</td>\n",
       "      <td>14</td>\n",
       "      <td>1221658</td>\n",
       "      <td>8</td>\n",
       "      <td>2013-06-21</td>\n",
       "      <td>7205</td>\n",
       "      <td>2</td>\n",
       "      <td>103700030</td>\n",
       "      <td>3.0</td>\n",
       "      <td>4294</td>\n",
       "      <td>...</td>\n",
       "      <td>NaN</td>\n",
       "      <td>NaN</td>\n",
       "      <td>NaN</td>\n",
       "      <td>NaN</td>\n",
       "      <td>NaN</td>\n",
       "      <td>NaN</td>\n",
       "      <td>NaN</td>\n",
       "      <td>NaN</td>\n",
       "      <td>NaN</td>\n",
       "      <td>NaN</td>\n",
       "    </tr>\n",
       "  </tbody>\n",
       "</table>\n",
       "<p>5 rows × 76 columns</p>\n",
       "</div>"
      ],
      "text/plain": [
       "         id  chain    offer  market  offerdate  category  quantity  \\\n",
       "0  12262064     95  1219903      39 2013-06-27       799         1   \n",
       "1  12277270     95  1221658      39 2013-06-23      7205         2   \n",
       "2  12332190     95  1213242      39 2013-06-15      5824         1   \n",
       "3  12524696      4  1221665       1 2013-06-20      7205         1   \n",
       "4  13074629     14  1221658       8 2013-06-21      7205         2   \n",
       "\n",
       "      company  offervalue  brand            ...              \\\n",
       "0  1076211171         1.5  17286            ...               \n",
       "1   103700030         3.0   4294            ...               \n",
       "2   105190050         2.0  26456            ...               \n",
       "3   103700030         1.5   4294            ...               \n",
       "4   103700030         3.0   4294            ...               \n",
       "\n",
       "   chain_quantity_bought_30  chain_frequency_bought_60  \\\n",
       "0                       NaN                        NaN   \n",
       "1                       NaN                        NaN   \n",
       "2                       NaN                        NaN   \n",
       "3                       NaN                        NaN   \n",
       "4                       NaN                        NaN   \n",
       "\n",
       "   chain_dollars_spent_60  chain_quantity_bought_60  \\\n",
       "0                     NaN                       NaN   \n",
       "1                     NaN                       NaN   \n",
       "2                     NaN                       NaN   \n",
       "3                     NaN                       NaN   \n",
       "4                     NaN                       NaN   \n",
       "\n",
       "   chain_frequency_bought_90  chain_dollars_spent_90  \\\n",
       "0                        NaN                     NaN   \n",
       "1                        NaN                     NaN   \n",
       "2                        NaN                     NaN   \n",
       "3                        NaN                     NaN   \n",
       "4                        NaN                     NaN   \n",
       "\n",
       "   chain_quantity_bought_90  chain_frequency_bought_180  \\\n",
       "0                       NaN                         NaN   \n",
       "1                       NaN                         NaN   \n",
       "2                       NaN                         NaN   \n",
       "3                       NaN                         NaN   \n",
       "4                       NaN                         NaN   \n",
       "\n",
       "   chain_dollars_spent_180  chain_quantity_bought_180  \n",
       "0                      NaN                        NaN  \n",
       "1                      NaN                        NaN  \n",
       "2                      NaN                        NaN  \n",
       "3                      NaN                        NaN  \n",
       "4                      NaN                        NaN  \n",
       "\n",
       "[5 rows x 76 columns]"
      ]
     },
     "execution_count": 51,
     "metadata": {},
     "output_type": "execute_result"
    }
   ],
   "source": [
    "test.head()"
   ]
  },
  {
   "cell_type": "code",
   "execution_count": 52,
   "metadata": {
    "collapsed": false,
    "scrolled": false
   },
   "outputs": [
    {
     "data": {
      "text/plain": [
       "id                                   0\n",
       "chain                                0\n",
       "offer                                0\n",
       "market                               0\n",
       "offerdate                            0\n",
       "category                             0\n",
       "quantity                             0\n",
       "company                              0\n",
       "offervalue                           0\n",
       "brand                                0\n",
       "year                                 0\n",
       "month                                0\n",
       "week                                 0\n",
       "dayofweek                            0\n",
       "category_frequency_bought        27921\n",
       "company_frequency_bought         29641\n",
       "brand_frequency_bought           86783\n",
       "chain_frequency_bought             244\n",
       "category_quantity_bought         27921\n",
       "company_quantity_bought          29641\n",
       "brand_quantity_bought            86783\n",
       "chain_quantity_bought              244\n",
       "category_dollars_spent           27921\n",
       "company_dollars_spent            29641\n",
       "brand_dollars_spent              86783\n",
       "chain_dollars_spent                244\n",
       "All_quantity_bought             126053\n",
       "All_dollar_spent                126053\n",
       "category_frequency_bought_30    151484\n",
       "category_dollars_spent_30       151484\n",
       "                                 ...  \n",
       "company_frequency_bought_90     151484\n",
       "company_dollars_spent_90        151484\n",
       "company_quantity_bought_90      151484\n",
       "company_frequency_bought_180    151484\n",
       "company_dollars_spent_180       151484\n",
       "company_quantity_bought_180     151484\n",
       "brand_frequency_bought_30       151484\n",
       "brand_dollars_spent_30          151484\n",
       "brand_quantity_bought_30        151484\n",
       "brand_frequency_bought_60       151484\n",
       "brand_dollars_spent_60          151484\n",
       "brand_quantity_bought_60        151484\n",
       "brand_frequency_bought_90       151484\n",
       "brand_dollars_spent_90          151484\n",
       "brand_quantity_bought_90        151484\n",
       "brand_frequency_bought_180      151484\n",
       "brand_dollars_spent_180         151484\n",
       "brand_quantity_bought_180       151484\n",
       "chain_frequency_bought_30       151484\n",
       "chain_dollars_spent_30          151484\n",
       "chain_quantity_bought_30        151484\n",
       "chain_frequency_bought_60       151484\n",
       "chain_dollars_spent_60          151484\n",
       "chain_quantity_bought_60        151484\n",
       "chain_frequency_bought_90       151484\n",
       "chain_dollars_spent_90          151484\n",
       "chain_quantity_bought_90        151484\n",
       "chain_frequency_bought_180      151484\n",
       "chain_dollars_spent_180         151484\n",
       "chain_quantity_bought_180       151484\n",
       "dtype: int64"
      ]
     },
     "execution_count": 52,
     "metadata": {},
     "output_type": "execute_result"
    }
   ],
   "source": [
    "test.isnull().sum()"
   ]
  },
  {
   "cell_type": "code",
   "execution_count": 22,
   "metadata": {
    "collapsed": false
   },
   "outputs": [
    {
     "name": "stdout",
     "output_type": "stream",
     "text": [
      "<class 'pandas.core.frame.DataFrame'>\n",
      "Int64Index: 32354 entries, 0 to 32353\n",
      "Data columns (total 20 columns):\n",
      "id                           32354 non-null int64\n",
      "chain                        32354 non-null int64\n",
      "offer                        32354 non-null int64\n",
      "market                       32354 non-null int64\n",
      "repeattrips                  32354 non-null int64\n",
      "repeater                     32354 non-null object\n",
      "offerdate                    32354 non-null datetime64[ns]\n",
      "category                     32354 non-null int64\n",
      "quantity                     32354 non-null int64\n",
      "company                      32354 non-null int64\n",
      "offervalue                   32354 non-null float64\n",
      "brand                        32354 non-null int64\n",
      "year                         32354 non-null int64\n",
      "month                        32354 non-null int64\n",
      "week                         32354 non-null int64\n",
      "dayofweek                    32354 non-null int64\n",
      "category_frequency_bought    32354 non-null int64\n",
      "company_frequency_bought     32354 non-null int64\n",
      "brand_frequency_bought       32354 non-null int64\n",
      "chain_frequency_bought       32354 non-null int64\n",
      "dtypes: datetime64[ns](1), float64(1), int64(17), object(1)\n",
      "memory usage: 5.2+ MB\n"
     ]
    }
   ],
   "source": [
    "train.info()"
   ]
  },
  {
   "cell_type": "code",
   "execution_count": 153,
   "metadata": {
    "collapsed": false
   },
   "outputs": [],
   "source": [
    "# Replace NA values in Quantity bought from category and company\n",
    "train = train.fillna(0)\n",
    "test = test.fillna(0)"
   ]
  },
  {
   "cell_type": "code",
   "execution_count": 154,
   "metadata": {
    "collapsed": false
   },
   "outputs": [],
   "source": [
    "train_X = train.drop(['repeattrips','repeater','offerdate'],axis=1)\n",
    "train_Y = train.repeater\n",
    "test_X = test.drop('offerdate', axis =1)\n",
    "ids = test.id.values"
   ]
  },
  {
   "cell_type": "code",
   "execution_count": 155,
   "metadata": {
    "collapsed": false
   },
   "outputs": [
    {
     "data": {
      "text/plain": [
       "array([1, 1, 0, ..., 1, 0, 0], dtype=int64)"
      ]
     },
     "execution_count": 155,
     "metadata": {},
     "output_type": "execute_result"
    }
   ],
   "source": [
    "# Transform the labels into binary 0, 1\n",
    "le = LabelEncoder()\n",
    "train_Y = le.fit_transform(train_Y)\n",
    "train_Y"
   ]
  },
  {
   "cell_type": "markdown",
   "metadata": {},
   "source": [
    "## Data Exploration / Visualisation"
   ]
  },
  {
   "cell_type": "markdown",
   "metadata": {},
   "source": [
    "### Summary Statistics for Transactions Table"
   ]
  },
  {
   "cell_type": "code",
   "execution_count": 156,
   "metadata": {
    "collapsed": false,
    "scrolled": false
   },
   "outputs": [
    {
     "data": {
      "text/html": [
       "<div>\n",
       "<table border=\"1\" class=\"dataframe\">\n",
       "  <thead>\n",
       "    <tr style=\"text-align: right;\">\n",
       "      <th></th>\n",
       "      <th>productsize</th>\n",
       "      <th>purchasequantity</th>\n",
       "      <th>purchaseamount</th>\n",
       "    </tr>\n",
       "  </thead>\n",
       "  <tbody>\n",
       "    <tr>\n",
       "      <th>count</th>\n",
       "      <td>14988648.000000</td>\n",
       "      <td>14988648.000000</td>\n",
       "      <td>14988648.000000</td>\n",
       "    </tr>\n",
       "    <tr>\n",
       "      <th>mean</th>\n",
       "      <td>30.297778</td>\n",
       "      <td>1.586838</td>\n",
       "      <td>5.531038</td>\n",
       "    </tr>\n",
       "    <tr>\n",
       "      <th>std</th>\n",
       "      <td>44.294919</td>\n",
       "      <td>4.161547</td>\n",
       "      <td>9.757088</td>\n",
       "    </tr>\n",
       "    <tr>\n",
       "      <th>min</th>\n",
       "      <td>0.000000</td>\n",
       "      <td>-17.000000</td>\n",
       "      <td>-885.040000</td>\n",
       "    </tr>\n",
       "    <tr>\n",
       "      <th>25%</th>\n",
       "      <td>8.000000</td>\n",
       "      <td>1.000000</td>\n",
       "      <td>2.580000</td>\n",
       "    </tr>\n",
       "    <tr>\n",
       "      <th>50%</th>\n",
       "      <td>14.500000</td>\n",
       "      <td>1.000000</td>\n",
       "      <td>3.960000</td>\n",
       "    </tr>\n",
       "    <tr>\n",
       "      <th>75%</th>\n",
       "      <td>32.000000</td>\n",
       "      <td>2.000000</td>\n",
       "      <td>5.990000</td>\n",
       "    </tr>\n",
       "    <tr>\n",
       "      <th>max</th>\n",
       "      <td>1080.000000</td>\n",
       "      <td>2608.000000</td>\n",
       "      <td>3248.980000</td>\n",
       "    </tr>\n",
       "  </tbody>\n",
       "</table>\n",
       "</div>"
      ],
      "text/plain": [
       "           productsize  purchasequantity   purchaseamount\n",
       "count  14988648.000000   14988648.000000  14988648.000000\n",
       "mean         30.297778          1.586838         5.531038\n",
       "std          44.294919          4.161547         9.757088\n",
       "min           0.000000        -17.000000      -885.040000\n",
       "25%           8.000000          1.000000         2.580000\n",
       "50%          14.500000          1.000000         3.960000\n",
       "75%          32.000000          2.000000         5.990000\n",
       "max        1080.000000       2608.000000      3248.980000"
      ]
     },
     "execution_count": 156,
     "metadata": {},
     "output_type": "execute_result"
    }
   ],
   "source": [
    "transactions[['productsize','purchasequantity','purchaseamount']].describe()"
   ]
  },
  {
   "cell_type": "code",
   "execution_count": null,
   "metadata": {
    "collapsed": false,
    "scrolled": false
   },
   "outputs": [],
   "source": [
    "transactions.groupby('month').purchaseamount.sum().plot()"
   ]
  },
  {
   "cell_type": "markdown",
   "metadata": {},
   "source": [
    "### Summary Statistics for Train + Offers Table"
   ]
  },
  {
   "cell_type": "code",
   "execution_count": 157,
   "metadata": {
    "collapsed": false
   },
   "outputs": [
    {
     "data": {
      "text/plain": [
       "<matplotlib.axes._subplots.AxesSubplot at 0x2538bbd30>"
      ]
     },
     "execution_count": 157,
     "metadata": {},
     "output_type": "execute_result"
    },
    {
     "data": {
      "image/png": "[encoded data removed]",
      "text/plain": [
       "<matplotlib.figure.Figure at 0x55d60fcf8>"
      ]
     },
     "metadata": {},
     "output_type": "display_data"
    }
   ],
   "source": [
    "#Graph of non-repeaters vs repeaters\n",
    "train.repeater.value_counts().plot(kind='bar')"
   ]
  },
  {
   "cell_type": "markdown",
   "metadata": {},
   "source": [
    "## Model Building"
   ]
  },
  {
   "cell_type": "code",
   "execution_count": 160,
   "metadata": {
    "collapsed": false
   },
   "outputs": [],
   "source": [
    "from sklearn.linear_model import LogisticRegressionCV\n",
    "log = LogisticRegressionCV()\n",
    "log.fit(train_X,train_Y)\n",
    "y_pred_log = log.predict_proba(test_X)"
   ]
  },
  {
   "cell_type": "code",
   "execution_count": 162,
   "metadata": {
    "collapsed": false,
    "scrolled": false
   },
   "outputs": [
    {
     "data": {
      "text/plain": [
       "<bound method LogisticRegressionCV.get_params of LogisticRegressionCV(Cs=10, class_weight=None, cv=None, dual=False,\n",
       "           fit_intercept=True, intercept_scaling=1.0, max_iter=100,\n",
       "           multi_class='ovr', n_jobs=1, penalty='l2', random_state=None,\n",
       "           refit=True, scoring=None, solver='lbfgs', tol=0.0001, verbose=0)>"
      ]
     },
     "execution_count": 162,
     "metadata": {},
     "output_type": "execute_result"
    }
   ],
   "source": [
    "log.get_params"
   ]
  },
  {
   "cell_type": "code",
   "execution_count": 161,
   "metadata": {
    "collapsed": false,
    "scrolled": true
   },
   "outputs": [
    {
     "data": {
      "text/plain": [
       "0.72860918297856392"
      ]
     },
     "execution_count": 161,
     "metadata": {},
     "output_type": "execute_result"
    }
   ],
   "source": [
    "log.score(train_X,train_Y)"
   ]
  },
  {
   "cell_type": "code",
   "execution_count": 164,
   "metadata": {
    "collapsed": false,
    "scrolled": false
   },
   "outputs": [],
   "source": [
    "y_prob = []\n",
    "for n in y_pred_log:\n",
    "    \n",
    "    y_prob.append(n[1])"
   ]
  },
  {
   "cell_type": "code",
   "execution_count": null,
   "metadata": {
    "collapsed": true
   },
   "outputs": [],
   "source": []
  },
  {
   "cell_type": "code",
   "execution_count": 170,
   "metadata": {
    "collapsed": false
   },
   "outputs": [],
   "source": [
    "from sklearn.ensemble import RandomForestClassifier\n",
    "\n",
    "forest = RandomForestClassifier(n_estimators = 100,n_jobs=-1)\n",
    "forest.fit(train_X,train_Y)\n",
    "y_pred_forest = forest.predict_proba(test_X)"
   ]
  },
  {
   "cell_type": "code",
   "execution_count": 172,
   "metadata": {
    "collapsed": false
   },
   "outputs": [
    {
     "data": {
      "text/plain": [
       "0.99999375222576958"
      ]
     },
     "execution_count": 172,
     "metadata": {},
     "output_type": "execute_result"
    }
   ],
   "source": [
    "forest.score(train_X,train_Y)"
   ]
  },
  {
   "cell_type": "code",
   "execution_count": 173,
   "metadata": {
    "collapsed": true
   },
   "outputs": [],
   "source": [
    "y_prob = []\n",
    "for n in y_pred_forest:\n",
    "    \n",
    "    y_prob.append(n[1])"
   ]
  },
  {
   "cell_type": "code",
   "execution_count": null,
   "metadata": {
    "collapsed": true
   },
   "outputs": [],
   "source": []
  },
  {
   "cell_type": "code",
   "execution_count": 186,
   "metadata": {
    "collapsed": true
   },
   "outputs": [],
   "source": [
    "xgb.XGBClassifier?"
   ]
  },
  {
   "cell_type": "code",
   "execution_count": 195,
   "metadata": {
    "collapsed": false
   },
   "outputs": [],
   "source": [
    "import xgboost as xgb\n",
    "clf = xgb.XGBClassifier(n_estimators=300,\n",
    "                        nthread=-1,\n",
    "                        max_depth=3,\n",
    "                        learning_rate=0.1,\n",
    "                        silent=True,\n",
    "                        subsample=0.8,\n",
    "                        colsample_bytree=0.8)\n",
    "                        \n",
    "xgb_model = clf.fit(train_X,train_Y)\n",
    "predict_xgb = xgb_model.predict_proba(test_X)"
   ]
  },
  {
   "cell_type": "code",
   "execution_count": 199,
   "metadata": {
    "collapsed": false
   },
   "outputs": [
    {
     "data": {
      "text/plain": [
       "0.76224095166097083"
      ]
     },
     "execution_count": 199,
     "metadata": {},
     "output_type": "execute_result"
    }
   ],
   "source": [
    "xgb_model.score(train_X,train_Y)"
   ]
  },
  {
   "cell_type": "code",
   "execution_count": 197,
   "metadata": {
    "collapsed": true
   },
   "outputs": [],
   "source": [
    "y_prob = []\n",
    "for n in predict_xgb:\n",
    "    \n",
    "    y_prob.append(n[1])"
   ]
  },
  {
   "cell_type": "code",
   "execution_count": null,
   "metadata": {
    "collapsed": true
   },
   "outputs": [],
   "source": []
  },
  {
   "cell_type": "markdown",
   "metadata": {},
   "source": [
    "## Create Submission File"
   ]
  },
  {
   "cell_type": "code",
   "execution_count": 198,
   "metadata": {
    "collapsed": false
   },
   "outputs": [],
   "source": [
    "submit = pd.DataFrame({'id' : ids, 'repeatProbability' : y_prob}).set_index('id')\n",
    "submit.to_csv(\"submission.csv\")"
   ]
  },
  {
   "cell_type": "code",
   "execution_count": null,
   "metadata": {
    "collapsed": true
   },
   "outputs": [],
   "source": []
  }
 ],
 "metadata": {
  "kernelspec": {
   "display_name": "Python 2",
   "language": "python",
   "name": "python2"
  },
  "language_info": {
   "codemirror_mode": {
    "name": "ipython",
    "version": 2
   },
   "file_extension": ".py",
   "mimetype": "text/x-python",
   "name": "python",
   "nbconvert_exporter": "python",
   "pygments_lexer": "ipython2",
   "version": "2.7.11"
  }
 },
 "nbformat": 4,
 "nbformat_minor": 0
}
